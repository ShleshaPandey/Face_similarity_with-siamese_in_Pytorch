{
 "cells": [
  {
   "cell_type": "code",
   "execution_count": 1,
   "id": "e4b37c71",
   "metadata": {
    "execution": {
     "iopub.execute_input": "2023-08-25T17:08:27.260441Z",
     "iopub.status.busy": "2023-08-25T17:08:27.259025Z",
     "iopub.status.idle": "2023-08-25T17:08:28.835546Z",
     "shell.execute_reply": "2023-08-25T17:08:28.833992Z",
     "shell.execute_reply.started": "2023-08-25T16:52:55.382971Z"
    },
    "papermill": {
     "duration": 1.655072,
     "end_time": "2023-08-25T17:08:28.835885",
     "exception": false,
     "start_time": "2023-08-25T17:08:27.180813",
     "status": "completed"
    },
    "tags": []
   },
   "outputs": [],
   "source": [
    "import pandas as pd\n",
    "import numpy as np    \n",
    "import matplotlib as mpl\n",
    "import matplotlib.pyplot as plt\n",
    "%matplotlib inline  \n",
    "import seaborn as sns\n",
    "from sklearn.preprocessing import LabelEncoder\n",
    "from sklearn.model_selection import train_test_split\n",
    "from sklearn.feature_selection import SelectKBest, f_classif\n",
    "from sklearn.preprocessing import StandardScaler\n",
    "from sklearn.linear_model import LogisticRegression\n",
    "from sklearn.neighbors import KNeighborsClassifier\n",
    "from sklearn.tree import DecisionTreeClassifier\n",
    "from sklearn import svm\n",
    "from sklearn.metrics import plot_confusion_matrix,classification_report\n",
    "from sklearn.metrics import plot_precision_recall_curve\n",
    "from sklearn.metrics import f1_score, accuracy_score, matthews_corrcoef\n",
    "from sklearn import metrics"
   ]
  },
  {
   "cell_type": "code",
   "execution_count": 2,
   "id": "c8e01863",
   "metadata": {
    "execution": {
     "iopub.execute_input": "2023-08-25T17:08:29.002128Z",
     "iopub.status.busy": "2023-08-25T17:08:29.001019Z",
     "iopub.status.idle": "2023-08-25T17:08:29.078315Z",
     "shell.execute_reply": "2023-08-25T17:08:29.079212Z",
     "shell.execute_reply.started": "2023-08-25T16:52:57.058721Z"
    },
    "papermill": {
     "duration": 0.16048,
     "end_time": "2023-08-25T17:08:29.079488",
     "exception": false,
     "start_time": "2023-08-25T17:08:28.919008",
     "status": "completed"
    },
    "tags": []
   },
   "outputs": [
    {
     "data": {
      "text/html": [
       "<div>\n",
       "<style scoped>\n",
       "    .dataframe tbody tr th:only-of-type {\n",
       "        vertical-align: middle;\n",
       "    }\n",
       "\n",
       "    .dataframe tbody tr th {\n",
       "        vertical-align: top;\n",
       "    }\n",
       "\n",
       "    .dataframe thead th {\n",
       "        text-align: right;\n",
       "    }\n",
       "</style>\n",
       "<table border=\"1\" class=\"dataframe\">\n",
       "  <thead>\n",
       "    <tr style=\"text-align: right;\">\n",
       "      <th></th>\n",
       "      <th>id</th>\n",
       "      <th>gender</th>\n",
       "      <th>age</th>\n",
       "      <th>hypertension</th>\n",
       "      <th>heart_disease</th>\n",
       "      <th>ever_married</th>\n",
       "      <th>work_type</th>\n",
       "      <th>Residence_type</th>\n",
       "      <th>avg_glucose_level</th>\n",
       "      <th>bmi</th>\n",
       "      <th>smoking_status</th>\n",
       "      <th>stroke</th>\n",
       "    </tr>\n",
       "  </thead>\n",
       "  <tbody>\n",
       "    <tr>\n",
       "      <th>0</th>\n",
       "      <td>9046</td>\n",
       "      <td>Male</td>\n",
       "      <td>67.0</td>\n",
       "      <td>0</td>\n",
       "      <td>1</td>\n",
       "      <td>Yes</td>\n",
       "      <td>Private</td>\n",
       "      <td>Urban</td>\n",
       "      <td>228.69</td>\n",
       "      <td>36.6</td>\n",
       "      <td>formerly smoked</td>\n",
       "      <td>1</td>\n",
       "    </tr>\n",
       "    <tr>\n",
       "      <th>1</th>\n",
       "      <td>51676</td>\n",
       "      <td>Female</td>\n",
       "      <td>61.0</td>\n",
       "      <td>0</td>\n",
       "      <td>0</td>\n",
       "      <td>Yes</td>\n",
       "      <td>Self-employed</td>\n",
       "      <td>Rural</td>\n",
       "      <td>202.21</td>\n",
       "      <td>NaN</td>\n",
       "      <td>never smoked</td>\n",
       "      <td>1</td>\n",
       "    </tr>\n",
       "    <tr>\n",
       "      <th>2</th>\n",
       "      <td>31112</td>\n",
       "      <td>Male</td>\n",
       "      <td>80.0</td>\n",
       "      <td>0</td>\n",
       "      <td>1</td>\n",
       "      <td>Yes</td>\n",
       "      <td>Private</td>\n",
       "      <td>Rural</td>\n",
       "      <td>105.92</td>\n",
       "      <td>32.5</td>\n",
       "      <td>never smoked</td>\n",
       "      <td>1</td>\n",
       "    </tr>\n",
       "    <tr>\n",
       "      <th>3</th>\n",
       "      <td>60182</td>\n",
       "      <td>Female</td>\n",
       "      <td>49.0</td>\n",
       "      <td>0</td>\n",
       "      <td>0</td>\n",
       "      <td>Yes</td>\n",
       "      <td>Private</td>\n",
       "      <td>Urban</td>\n",
       "      <td>171.23</td>\n",
       "      <td>34.4</td>\n",
       "      <td>smokes</td>\n",
       "      <td>1</td>\n",
       "    </tr>\n",
       "    <tr>\n",
       "      <th>4</th>\n",
       "      <td>1665</td>\n",
       "      <td>Female</td>\n",
       "      <td>79.0</td>\n",
       "      <td>1</td>\n",
       "      <td>0</td>\n",
       "      <td>Yes</td>\n",
       "      <td>Self-employed</td>\n",
       "      <td>Rural</td>\n",
       "      <td>174.12</td>\n",
       "      <td>24.0</td>\n",
       "      <td>never smoked</td>\n",
       "      <td>1</td>\n",
       "    </tr>\n",
       "  </tbody>\n",
       "</table>\n",
       "</div>"
      ],
      "text/plain": [
       "      id  gender   age  hypertension  heart_disease ever_married  \\\n",
       "0   9046    Male  67.0             0              1          Yes   \n",
       "1  51676  Female  61.0             0              0          Yes   \n",
       "2  31112    Male  80.0             0              1          Yes   \n",
       "3  60182  Female  49.0             0              0          Yes   \n",
       "4   1665  Female  79.0             1              0          Yes   \n",
       "\n",
       "       work_type Residence_type  avg_glucose_level   bmi   smoking_status  \\\n",
       "0        Private          Urban             228.69  36.6  formerly smoked   \n",
       "1  Self-employed          Rural             202.21   NaN     never smoked   \n",
       "2        Private          Rural             105.92  32.5     never smoked   \n",
       "3        Private          Urban             171.23  34.4           smokes   \n",
       "4  Self-employed          Rural             174.12  24.0     never smoked   \n",
       "\n",
       "   stroke  \n",
       "0       1  \n",
       "1       1  \n",
       "2       1  \n",
       "3       1  \n",
       "4       1  "
      ]
     },
     "execution_count": 2,
     "metadata": {},
     "output_type": "execute_result"
    }
   ],
   "source": [
    "df = pd.read_csv(\"../input/stroke-prediction-dataset/healthcare-dataset-stroke-data.csv\")\n",
    "df.head()"
   ]
  },
  {
   "cell_type": "markdown",
   "id": "db5aaa05",
   "metadata": {
    "papermill": {
     "duration": 0.082351,
     "end_time": "2023-08-25T17:08:29.246496",
     "exception": false,
     "start_time": "2023-08-25T17:08:29.164145",
     "status": "completed"
    },
    "tags": []
   },
   "source": [
    "#### Let's see a concise summary of the dataframe."
   ]
  },
  {
   "cell_type": "code",
   "execution_count": 3,
   "id": "4b027c0e",
   "metadata": {
    "execution": {
     "iopub.execute_input": "2023-08-25T17:08:29.403120Z",
     "iopub.status.busy": "2023-08-25T17:08:29.401797Z",
     "iopub.status.idle": "2023-08-25T17:08:29.433968Z",
     "shell.execute_reply": "2023-08-25T17:08:29.434679Z",
     "shell.execute_reply.started": "2023-08-25T16:52:57.152710Z"
    },
    "papermill": {
     "duration": 0.112361,
     "end_time": "2023-08-25T17:08:29.434890",
     "exception": false,
     "start_time": "2023-08-25T17:08:29.322529",
     "status": "completed"
    },
    "tags": []
   },
   "outputs": [
    {
     "name": "stdout",
     "output_type": "stream",
     "text": [
      "<class 'pandas.core.frame.DataFrame'>\n",
      "RangeIndex: 5110 entries, 0 to 5109\n",
      "Data columns (total 12 columns):\n",
      " #   Column             Non-Null Count  Dtype  \n",
      "---  ------             --------------  -----  \n",
      " 0   id                 5110 non-null   int64  \n",
      " 1   gender             5110 non-null   object \n",
      " 2   age                5110 non-null   float64\n",
      " 3   hypertension       5110 non-null   int64  \n",
      " 4   heart_disease      5110 non-null   int64  \n",
      " 5   ever_married       5110 non-null   object \n",
      " 6   work_type          5110 non-null   object \n",
      " 7   Residence_type     5110 non-null   object \n",
      " 8   avg_glucose_level  5110 non-null   float64\n",
      " 9   bmi                4909 non-null   float64\n",
      " 10  smoking_status     5110 non-null   object \n",
      " 11  stroke             5110 non-null   int64  \n",
      "dtypes: float64(3), int64(4), object(5)\n",
      "memory usage: 479.2+ KB\n"
     ]
    }
   ],
   "source": [
    "df.info()"
   ]
  },
  {
   "cell_type": "markdown",
   "id": "c0bc7c92",
   "metadata": {
    "papermill": {
     "duration": 0.073861,
     "end_time": "2023-08-25T17:08:29.584469",
     "exception": false,
     "start_time": "2023-08-25T17:08:29.510608",
     "status": "completed"
    },
    "tags": []
   },
   "source": [
    "The column containing Id numbers of persons is not much of use here, so dropping the 'id' column."
   ]
  },
  {
   "cell_type": "code",
   "execution_count": 4,
   "id": "07d3c158",
   "metadata": {
    "execution": {
     "iopub.execute_input": "2023-08-25T17:08:29.742165Z",
     "iopub.status.busy": "2023-08-25T17:08:29.741287Z",
     "iopub.status.idle": "2023-08-25T17:08:29.749662Z",
     "shell.execute_reply": "2023-08-25T17:08:29.750337Z",
     "shell.execute_reply.started": "2023-08-25T16:52:57.183255Z"
    },
    "papermill": {
     "duration": 0.089657,
     "end_time": "2023-08-25T17:08:29.750538",
     "exception": false,
     "start_time": "2023-08-25T17:08:29.660881",
     "status": "completed"
    },
    "tags": []
   },
   "outputs": [],
   "source": [
    "df.drop(columns ='id', axis=1, inplace=True)"
   ]
  },
  {
   "cell_type": "markdown",
   "id": "d898312f",
   "metadata": {
    "papermill": {
     "duration": 0.079528,
     "end_time": "2023-08-25T17:08:29.907027",
     "exception": false,
     "start_time": "2023-08-25T17:08:29.827499",
     "status": "completed"
    },
    "tags": []
   },
   "source": [
    "The column named 'bmi' has some missing values. Let us check it."
   ]
  },
  {
   "cell_type": "code",
   "execution_count": 5,
   "id": "8b18e998",
   "metadata": {
    "execution": {
     "iopub.execute_input": "2023-08-25T17:08:30.064692Z",
     "iopub.status.busy": "2023-08-25T17:08:30.063940Z",
     "iopub.status.idle": "2023-08-25T17:08:30.072440Z",
     "shell.execute_reply": "2023-08-25T17:08:30.071774Z",
     "shell.execute_reply.started": "2023-08-25T16:52:57.193378Z"
    },
    "papermill": {
     "duration": 0.089188,
     "end_time": "2023-08-25T17:08:30.072625",
     "exception": false,
     "start_time": "2023-08-25T17:08:29.983437",
     "status": "completed"
    },
    "tags": []
   },
   "outputs": [
    {
     "data": {
      "text/plain": [
       "201"
      ]
     },
     "execution_count": 5,
     "metadata": {},
     "output_type": "execute_result"
    }
   ],
   "source": [
    "df['bmi'].isnull().sum()"
   ]
  },
  {
   "cell_type": "markdown",
   "id": "26a28f6a",
   "metadata": {
    "papermill": {
     "duration": 0.074163,
     "end_time": "2023-08-25T17:08:30.221643",
     "exception": false,
     "start_time": "2023-08-25T17:08:30.147480",
     "status": "completed"
    },
    "tags": []
   },
   "source": [
    "The number of missing values in the column 'bmi' is 201. Replacing the missing data points with mean of the column."
   ]
  },
  {
   "cell_type": "code",
   "execution_count": 6,
   "id": "0ff51149",
   "metadata": {
    "execution": {
     "iopub.execute_input": "2023-08-25T17:08:30.376999Z",
     "iopub.status.busy": "2023-08-25T17:08:30.376242Z",
     "iopub.status.idle": "2023-08-25T17:08:30.379422Z",
     "shell.execute_reply": "2023-08-25T17:08:30.378799Z",
     "shell.execute_reply.started": "2023-08-25T16:52:57.211181Z"
    },
    "papermill": {
     "duration": 0.083839,
     "end_time": "2023-08-25T17:08:30.379590",
     "exception": false,
     "start_time": "2023-08-25T17:08:30.295751",
     "status": "completed"
    },
    "tags": []
   },
   "outputs": [],
   "source": [
    "bmi_mean=df['bmi'].mean()\n",
    "df['bmi'].replace(np.nan, bmi_mean, inplace=True)"
   ]
  },
  {
   "cell_type": "markdown",
   "id": "d49ee910",
   "metadata": {
    "papermill": {
     "duration": 0.074707,
     "end_time": "2023-08-25T17:08:30.528727",
     "exception": false,
     "start_time": "2023-08-25T17:08:30.454020",
     "status": "completed"
    },
    "tags": []
   },
   "source": [
    "#### Basic statistical summary of the data."
   ]
  },
  {
   "cell_type": "code",
   "execution_count": 7,
   "id": "00eae492",
   "metadata": {
    "execution": {
     "iopub.execute_input": "2023-08-25T17:08:30.687695Z",
     "iopub.status.busy": "2023-08-25T17:08:30.686886Z",
     "iopub.status.idle": "2023-08-25T17:08:30.719118Z",
     "shell.execute_reply": "2023-08-25T17:08:30.718382Z",
     "shell.execute_reply.started": "2023-08-25T16:52:57.229531Z"
    },
    "papermill": {
     "duration": 0.116261,
     "end_time": "2023-08-25T17:08:30.719303",
     "exception": false,
     "start_time": "2023-08-25T17:08:30.603042",
     "status": "completed"
    },
    "tags": []
   },
   "outputs": [
    {
     "data": {
      "text/html": [
       "<div>\n",
       "<style scoped>\n",
       "    .dataframe tbody tr th:only-of-type {\n",
       "        vertical-align: middle;\n",
       "    }\n",
       "\n",
       "    .dataframe tbody tr th {\n",
       "        vertical-align: top;\n",
       "    }\n",
       "\n",
       "    .dataframe thead th {\n",
       "        text-align: right;\n",
       "    }\n",
       "</style>\n",
       "<table border=\"1\" class=\"dataframe\">\n",
       "  <thead>\n",
       "    <tr style=\"text-align: right;\">\n",
       "      <th></th>\n",
       "      <th>age</th>\n",
       "      <th>hypertension</th>\n",
       "      <th>heart_disease</th>\n",
       "      <th>avg_glucose_level</th>\n",
       "      <th>bmi</th>\n",
       "      <th>stroke</th>\n",
       "    </tr>\n",
       "  </thead>\n",
       "  <tbody>\n",
       "    <tr>\n",
       "      <th>count</th>\n",
       "      <td>5110.000000</td>\n",
       "      <td>5110.000000</td>\n",
       "      <td>5110.000000</td>\n",
       "      <td>5110.000000</td>\n",
       "      <td>5110.000000</td>\n",
       "      <td>5110.000000</td>\n",
       "    </tr>\n",
       "    <tr>\n",
       "      <th>mean</th>\n",
       "      <td>43.226614</td>\n",
       "      <td>0.097456</td>\n",
       "      <td>0.054012</td>\n",
       "      <td>106.147677</td>\n",
       "      <td>28.893237</td>\n",
       "      <td>0.048728</td>\n",
       "    </tr>\n",
       "    <tr>\n",
       "      <th>std</th>\n",
       "      <td>22.612647</td>\n",
       "      <td>0.296607</td>\n",
       "      <td>0.226063</td>\n",
       "      <td>45.283560</td>\n",
       "      <td>7.698018</td>\n",
       "      <td>0.215320</td>\n",
       "    </tr>\n",
       "    <tr>\n",
       "      <th>min</th>\n",
       "      <td>0.080000</td>\n",
       "      <td>0.000000</td>\n",
       "      <td>0.000000</td>\n",
       "      <td>55.120000</td>\n",
       "      <td>10.300000</td>\n",
       "      <td>0.000000</td>\n",
       "    </tr>\n",
       "    <tr>\n",
       "      <th>25%</th>\n",
       "      <td>25.000000</td>\n",
       "      <td>0.000000</td>\n",
       "      <td>0.000000</td>\n",
       "      <td>77.245000</td>\n",
       "      <td>23.800000</td>\n",
       "      <td>0.000000</td>\n",
       "    </tr>\n",
       "    <tr>\n",
       "      <th>50%</th>\n",
       "      <td>45.000000</td>\n",
       "      <td>0.000000</td>\n",
       "      <td>0.000000</td>\n",
       "      <td>91.885000</td>\n",
       "      <td>28.400000</td>\n",
       "      <td>0.000000</td>\n",
       "    </tr>\n",
       "    <tr>\n",
       "      <th>75%</th>\n",
       "      <td>61.000000</td>\n",
       "      <td>0.000000</td>\n",
       "      <td>0.000000</td>\n",
       "      <td>114.090000</td>\n",
       "      <td>32.800000</td>\n",
       "      <td>0.000000</td>\n",
       "    </tr>\n",
       "    <tr>\n",
       "      <th>max</th>\n",
       "      <td>82.000000</td>\n",
       "      <td>1.000000</td>\n",
       "      <td>1.000000</td>\n",
       "      <td>271.740000</td>\n",
       "      <td>97.600000</td>\n",
       "      <td>1.000000</td>\n",
       "    </tr>\n",
       "  </tbody>\n",
       "</table>\n",
       "</div>"
      ],
      "text/plain": [
       "               age  hypertension  heart_disease  avg_glucose_level  \\\n",
       "count  5110.000000   5110.000000    5110.000000        5110.000000   \n",
       "mean     43.226614      0.097456       0.054012         106.147677   \n",
       "std      22.612647      0.296607       0.226063          45.283560   \n",
       "min       0.080000      0.000000       0.000000          55.120000   \n",
       "25%      25.000000      0.000000       0.000000          77.245000   \n",
       "50%      45.000000      0.000000       0.000000          91.885000   \n",
       "75%      61.000000      0.000000       0.000000         114.090000   \n",
       "max      82.000000      1.000000       1.000000         271.740000   \n",
       "\n",
       "               bmi       stroke  \n",
       "count  5110.000000  5110.000000  \n",
       "mean     28.893237     0.048728  \n",
       "std       7.698018     0.215320  \n",
       "min      10.300000     0.000000  \n",
       "25%      23.800000     0.000000  \n",
       "50%      28.400000     0.000000  \n",
       "75%      32.800000     0.000000  \n",
       "max      97.600000     1.000000  "
      ]
     },
     "execution_count": 7,
     "metadata": {},
     "output_type": "execute_result"
    }
   ],
   "source": [
    "df.describe()"
   ]
  },
  {
   "cell_type": "code",
   "execution_count": 8,
   "id": "825d1822",
   "metadata": {
    "execution": {
     "iopub.execute_input": "2023-08-25T17:08:30.877998Z",
     "iopub.status.busy": "2023-08-25T17:08:30.875031Z",
     "iopub.status.idle": "2023-08-25T17:08:30.883192Z",
     "shell.execute_reply": "2023-08-25T17:08:30.882507Z",
     "shell.execute_reply.started": "2023-08-25T16:52:57.277936Z"
    },
    "papermill": {
     "duration": 0.088738,
     "end_time": "2023-08-25T17:08:30.883349",
     "exception": false,
     "start_time": "2023-08-25T17:08:30.794611",
     "status": "completed"
    },
    "tags": []
   },
   "outputs": [
    {
     "data": {
      "text/plain": [
       "0    4861\n",
       "1     249\n",
       "Name: stroke, dtype: int64"
      ]
     },
     "execution_count": 8,
     "metadata": {},
     "output_type": "execute_result"
    }
   ],
   "source": [
    "# number of entries for each categories in 'stroke' column\n",
    "df['stroke'].value_counts()"
   ]
  },
  {
   "cell_type": "markdown",
   "id": "fcf0e43c",
   "metadata": {
    "papermill": {
     "duration": 0.078672,
     "end_time": "2023-08-25T17:08:31.040060",
     "exception": false,
     "start_time": "2023-08-25T17:08:30.961388",
     "status": "completed"
    },
    "tags": []
   },
   "source": [
    "So the entries for 'stroke' = 1 is just 249 out of 5110 rows (which is about 5%). So out of 5110 samples, persons who had stroke is 5%."
   ]
  },
  {
   "cell_type": "markdown",
   "id": "97c03f97",
   "metadata": {
    "papermill": {
     "duration": 0.076158,
     "end_time": "2023-08-25T17:08:31.192704",
     "exception": false,
     "start_time": "2023-08-25T17:08:31.116546",
     "status": "completed"
    },
    "tags": []
   },
   "source": [
    "## A- Visualising the data\n",
    "### 1. Age and Gender "
   ]
  },
  {
   "cell_type": "code",
   "execution_count": 9,
   "id": "c556292b",
   "metadata": {
    "execution": {
     "iopub.execute_input": "2023-08-25T17:08:31.374215Z",
     "iopub.status.busy": "2023-08-25T17:08:31.373302Z",
     "iopub.status.idle": "2023-08-25T17:08:34.587022Z",
     "shell.execute_reply": "2023-08-25T17:08:34.587617Z",
     "shell.execute_reply.started": "2023-08-25T16:52:57.289103Z"
    },
    "papermill": {
     "duration": 3.318329,
     "end_time": "2023-08-25T17:08:34.587811",
     "exception": false,
     "start_time": "2023-08-25T17:08:31.269482",
     "status": "completed"
    },
    "tags": []
   },
   "outputs": [
    {
     "data": {
      "text/plain": [
       "<AxesSubplot:xlabel='stroke', ylabel='age'>"
      ]
     },
     "execution_count": 9,
     "metadata": {},
     "output_type": "execute_result"
    },
    {
     "data": {
      "image/png": "[encoded data removed]",
      "text/plain": [
       "<Figure size 576x720 with 6 Axes>"
      ]
     },
     "metadata": {
      "needs_background": "light"
     },
     "output_type": "display_data"
    }
   ],
   "source": [
    "fig, axs = plt.subplots(3,2,figsize=(8,10))\n",
    "sns.set_theme(style='whitegrid')\n",
    "sns.boxplot(x=df.hypertension, y=df.age,hue=df.gender, data = df, ax =axs[0,0])\n",
    "sns.stripplot(x=df.hypertension, y=df.age,hue=df.gender, data = df, ax =axs[0,1])\n",
    "\n",
    "sns.boxplot(x=df.heart_disease, y=df.age,hue=df.gender, data = df, ax = axs[1,0])\n",
    "sns.stripplot(x=df.heart_disease, y=df.age,hue=df.gender, data = df, ax = axs[1,1])\n",
    "\n",
    "sns.boxplot(x=df.stroke, y=df.age,hue=df.gender, data = df, ax = axs[2,0])\n",
    "sns.stripplot(x=df.stroke, y=df.age,hue=df.gender, data = df, ax = axs[2,1])"
   ]
  },
  {
   "cell_type": "markdown",
   "id": "fe4c9c2f",
   "metadata": {
    "papermill": {
     "duration": 0.081052,
     "end_time": "2023-08-25T17:08:34.749149",
     "exception": false,
     "start_time": "2023-08-25T17:08:34.668097",
     "status": "completed"
    },
    "tags": []
   },
   "source": [
    "We want to know the average age for patients of hypertension, heart_disease and stroke for males and females."
   ]
  },
  {
   "cell_type": "code",
   "execution_count": 10,
   "id": "1ae3ea50",
   "metadata": {
    "execution": {
     "iopub.execute_input": "2023-08-25T17:08:34.913633Z",
     "iopub.status.busy": "2023-08-25T17:08:34.912541Z",
     "iopub.status.idle": "2023-08-25T17:08:34.937734Z",
     "shell.execute_reply": "2023-08-25T17:08:34.937000Z",
     "shell.execute_reply.started": "2023-08-25T16:53:00.519938Z"
    },
    "papermill": {
     "duration": 0.10928,
     "end_time": "2023-08-25T17:08:34.937921",
     "exception": false,
     "start_time": "2023-08-25T17:08:34.828641",
     "status": "completed"
    },
    "tags": []
   },
   "outputs": [
    {
     "name": "stdout",
     "output_type": "stream",
     "text": [
      "Average 'age' for hypertension:  \n",
      " hypertension  gender\n",
      "0             Female    41.764768\n",
      "              Male      40.331410\n",
      "              Other     26.000000\n",
      "1             Female    63.380435\n",
      "              Male      60.833333\n",
      "Name: age, dtype: float64 \n",
      "\n",
      "Average 'age' for Heart-disease :  \n",
      " heart_disease  gender\n",
      "0              Female    42.747185\n",
      "               Male      40.413607\n",
      "               Other     26.000000\n",
      "1              Female    69.513274\n",
      "               Male      67.269939\n",
      "Name: age, dtype: float64 \n",
      "\n",
      "Average 'age' for stroke :  \n",
      " stroke  gender\n",
      "0       Female    42.601935\n",
      "        Male      41.083388\n",
      "        Other     26.000000\n",
      "1       Female    67.137021\n",
      "        Male      68.500000\n",
      "Name: age, dtype: float64\n"
     ]
    }
   ],
   "source": [
    "a =df.groupby(['hypertension', 'gender'])\n",
    "print(\"Average 'age' for hypertension: \",'\\n',a['age'].aggregate('mean'),'\\n')\n",
    "\n",
    "b =df.groupby(['heart_disease','gender'])\n",
    "print(\"Average 'age' for Heart-disease : \",'\\n' ,b['age'].aggregate('mean'),'\\n')\n",
    "\n",
    "c=df.groupby(['stroke','gender'])\n",
    "print(\"Average 'age' for stroke : \",'\\n' ,c['age'].aggregate('mean'))\n"
   ]
  },
  {
   "cell_type": "markdown",
   "id": "fa1fec1a",
   "metadata": {
    "papermill": {
     "duration": 0.080377,
     "end_time": "2023-08-25T17:08:35.102434",
     "exception": false,
     "start_time": "2023-08-25T17:08:35.022057",
     "status": "completed"
    },
    "tags": []
   },
   "source": [
    "**So from the above analysis we can say**\n",
    "\n",
    " **1. The average age for Hypertension is about 63 years in Females and 61 year in Males. It is slightly more in case female.**\n",
    "\n",
    "**2. The plot for occurrence of heart-disease vs age very clearly depicts that for people below age of 40 years have very rare cases of Heart-disease. On an average for people of age of about 70 years it is most common. There is not much difference in average age for Male and Female for heart-disease.**\n",
    "\n",
    "**3. The average age of Stroke for Males and Females are not very different (about 67 years in Female and 69 years in Males).**\n",
    "\n",
    "**4. The occurrence of any of the above three diseases is very rare for people of age below 40 years and high for people of age 60 years and above for all.**"
   ]
  },
  {
   "cell_type": "markdown",
   "id": "0fc52af2",
   "metadata": {
    "papermill": {
     "duration": 0.07974,
     "end_time": "2023-08-25T17:08:35.262760",
     "exception": false,
     "start_time": "2023-08-25T17:08:35.183020",
     "status": "completed"
    },
    "tags": []
   },
   "source": [
    "### 2. Hypertension "
   ]
  },
  {
   "cell_type": "code",
   "execution_count": 11,
   "id": "c22d6faa",
   "metadata": {
    "execution": {
     "iopub.execute_input": "2023-08-25T17:08:35.458132Z",
     "iopub.status.busy": "2023-08-25T17:08:35.457252Z",
     "iopub.status.idle": "2023-08-25T17:08:35.714403Z",
     "shell.execute_reply": "2023-08-25T17:08:35.713739Z",
     "shell.execute_reply.started": "2023-08-25T16:53:00.549271Z"
    },
    "papermill": {
     "duration": 0.371774,
     "end_time": "2023-08-25T17:08:35.714592",
     "exception": false,
     "start_time": "2023-08-25T17:08:35.342818",
     "status": "completed"
    },
    "tags": []
   },
   "outputs": [
    {
     "name": "stdout",
     "output_type": "stream",
     "text": [
      "\n",
      " Stroke vs Hypertension Frequency table :  \n",
      "\n"
     ]
    },
    {
     "data": {
      "text/html": [
       "<div>\n",
       "<style scoped>\n",
       "    .dataframe tbody tr th:only-of-type {\n",
       "        vertical-align: middle;\n",
       "    }\n",
       "\n",
       "    .dataframe tbody tr th {\n",
       "        vertical-align: top;\n",
       "    }\n",
       "\n",
       "    .dataframe thead th {\n",
       "        text-align: right;\n",
       "    }\n",
       "</style>\n",
       "<table border=\"1\" class=\"dataframe\">\n",
       "  <thead>\n",
       "    <tr style=\"text-align: right;\">\n",
       "      <th>hypertension</th>\n",
       "      <th>0</th>\n",
       "      <th>1</th>\n",
       "      <th>All</th>\n",
       "    </tr>\n",
       "    <tr>\n",
       "      <th>stroke</th>\n",
       "      <th></th>\n",
       "      <th></th>\n",
       "      <th></th>\n",
       "    </tr>\n",
       "  </thead>\n",
       "  <tbody>\n",
       "    <tr>\n",
       "      <th>0</th>\n",
       "      <td>0.866732</td>\n",
       "      <td>0.084540</td>\n",
       "      <td>0.951272</td>\n",
       "    </tr>\n",
       "    <tr>\n",
       "      <th>1</th>\n",
       "      <td>0.035812</td>\n",
       "      <td>0.012916</td>\n",
       "      <td>0.048728</td>\n",
       "    </tr>\n",
       "    <tr>\n",
       "      <th>All</th>\n",
       "      <td>0.902544</td>\n",
       "      <td>0.097456</td>\n",
       "      <td>1.000000</td>\n",
       "    </tr>\n",
       "  </tbody>\n",
       "</table>\n",
       "</div>"
      ],
      "text/plain": [
       "hypertension         0         1       All\n",
       "stroke                                    \n",
       "0             0.866732  0.084540  0.951272\n",
       "1             0.035812  0.012916  0.048728\n",
       "All           0.902544  0.097456  1.000000"
      ]
     },
     "execution_count": 11,
     "metadata": {},
     "output_type": "execute_result"
    },
    {
     "data": {
      "image/png": "[encoded data removed]",
      "text/plain": [
       "<Figure size 432x288 with 1 Axes>"
      ]
     },
     "metadata": {},
     "output_type": "display_data"
    }
   ],
   "source": [
    "plt.plot(figsize=(8,10))\n",
    "sns.set_theme(style='whitegrid')\n",
    "sns.countplot(data = df,  x='stroke', hue='hypertension')\n",
    "\n",
    "print('\\n','Stroke vs Hypertension Frequency table : ','\\n')\n",
    "pd.crosstab(df['stroke'], \n",
    "                   df['hypertension'],  normalize='all', margins = True)"
   ]
  },
  {
   "cell_type": "markdown",
   "id": "13ecfa25",
   "metadata": {
    "papermill": {
     "duration": 0.081553,
     "end_time": "2023-08-25T17:08:35.879304",
     "exception": false,
     "start_time": "2023-08-25T17:08:35.797751",
     "status": "completed"
    },
    "tags": []
   },
   "source": [
    "**Among 90% of persons who are not having hypertension about 87% are those who did not get stroke as well.**"
   ]
  },
  {
   "cell_type": "markdown",
   "id": "b99453c9",
   "metadata": {
    "papermill": {
     "duration": 0.086012,
     "end_time": "2023-08-25T17:08:36.049060",
     "exception": false,
     "start_time": "2023-08-25T17:08:35.963048",
     "status": "completed"
    },
    "tags": []
   },
   "source": [
    "### 3. Heart-disease"
   ]
  },
  {
   "cell_type": "code",
   "execution_count": 12,
   "id": "c94c4159",
   "metadata": {
    "execution": {
     "iopub.execute_input": "2023-08-25T17:08:36.227534Z",
     "iopub.status.busy": "2023-08-25T17:08:36.226694Z",
     "iopub.status.idle": "2023-08-25T17:08:36.485236Z",
     "shell.execute_reply": "2023-08-25T17:08:36.485803Z",
     "shell.execute_reply.started": "2023-08-25T16:53:00.858624Z"
    },
    "papermill": {
     "duration": 0.35418,
     "end_time": "2023-08-25T17:08:36.486014",
     "exception": false,
     "start_time": "2023-08-25T17:08:36.131834",
     "status": "completed"
    },
    "tags": []
   },
   "outputs": [
    {
     "name": "stdout",
     "output_type": "stream",
     "text": [
      "\n",
      " Stroke vs Heart-disease Frequency table:  \n",
      "\n"
     ]
    },
    {
     "data": {
      "text/html": [
       "<div>\n",
       "<style scoped>\n",
       "    .dataframe tbody tr th:only-of-type {\n",
       "        vertical-align: middle;\n",
       "    }\n",
       "\n",
       "    .dataframe tbody tr th {\n",
       "        vertical-align: top;\n",
       "    }\n",
       "\n",
       "    .dataframe thead th {\n",
       "        text-align: right;\n",
       "    }\n",
       "</style>\n",
       "<table border=\"1\" class=\"dataframe\">\n",
       "  <thead>\n",
       "    <tr style=\"text-align: right;\">\n",
       "      <th>heart_disease</th>\n",
       "      <th>0</th>\n",
       "      <th>1</th>\n",
       "      <th>All</th>\n",
       "    </tr>\n",
       "    <tr>\n",
       "      <th>stroke</th>\n",
       "      <th></th>\n",
       "      <th></th>\n",
       "      <th></th>\n",
       "    </tr>\n",
       "  </thead>\n",
       "  <tbody>\n",
       "    <tr>\n",
       "      <th>0</th>\n",
       "      <td>0.906458</td>\n",
       "      <td>0.044814</td>\n",
       "      <td>0.951272</td>\n",
       "    </tr>\n",
       "    <tr>\n",
       "      <th>1</th>\n",
       "      <td>0.039530</td>\n",
       "      <td>0.009198</td>\n",
       "      <td>0.048728</td>\n",
       "    </tr>\n",
       "    <tr>\n",
       "      <th>All</th>\n",
       "      <td>0.945988</td>\n",
       "      <td>0.054012</td>\n",
       "      <td>1.000000</td>\n",
       "    </tr>\n",
       "  </tbody>\n",
       "</table>\n",
       "</div>"
      ],
      "text/plain": [
       "heart_disease         0         1       All\n",
       "stroke                                     \n",
       "0              0.906458  0.044814  0.951272\n",
       "1              0.039530  0.009198  0.048728\n",
       "All            0.945988  0.054012  1.000000"
      ]
     },
     "execution_count": 12,
     "metadata": {},
     "output_type": "execute_result"
    },
    {
     "data": {
      "image/png": "[encoded data removed]",
      "text/plain": [
       "<Figure size 432x288 with 1 Axes>"
      ]
     },
     "metadata": {},
     "output_type": "display_data"
    }
   ],
   "source": [
    "plt.plot(figsize=(8,10))\n",
    "sns.set_theme(style='whitegrid')\n",
    "sns.countplot(data = df, x='stroke', hue='heart_disease')\n",
    "\n",
    "print('\\n','Stroke vs Heart-disease Frequency table: ', '\\n')\n",
    "pd.crosstab(df['stroke'], \n",
    "                  df['heart_disease'], normalize='all', margins = True)"
   ]
  },
  {
   "cell_type": "markdown",
   "id": "2e7c1955",
   "metadata": {
    "papermill": {
     "duration": 0.082871,
     "end_time": "2023-08-25T17:08:36.652629",
     "exception": false,
     "start_time": "2023-08-25T17:08:36.569758",
     "status": "completed"
    },
    "tags": []
   },
   "source": [
    "**The data shows 90% of persons who do not have heart-disease don't get stroke.**\n"
   ]
  },
  {
   "cell_type": "markdown",
   "id": "f3282c0b",
   "metadata": {
    "papermill": {
     "duration": 0.082915,
     "end_time": "2023-08-25T17:08:36.818952",
     "exception": false,
     "start_time": "2023-08-25T17:08:36.736037",
     "status": "completed"
    },
    "tags": []
   },
   "source": [
    "### 4. Marital-status"
   ]
  },
  {
   "cell_type": "code",
   "execution_count": 13,
   "id": "3a9cda72",
   "metadata": {
    "execution": {
     "iopub.execute_input": "2023-08-25T17:08:36.990533Z",
     "iopub.status.busy": "2023-08-25T17:08:36.989741Z",
     "iopub.status.idle": "2023-08-25T17:08:37.604198Z",
     "shell.execute_reply": "2023-08-25T17:08:37.603411Z",
     "shell.execute_reply.started": "2023-08-25T16:53:01.128916Z"
    },
    "papermill": {
     "duration": 0.702268,
     "end_time": "2023-08-25T17:08:37.604366",
     "exception": false,
     "start_time": "2023-08-25T17:08:36.902098",
     "status": "completed"
    },
    "tags": []
   },
   "outputs": [
    {
     "data": {
      "text/plain": [
       "<AxesSubplot:xlabel='ever_married', ylabel='count'>"
      ]
     },
     "execution_count": 13,
     "metadata": {},
     "output_type": "execute_result"
    },
    {
     "data": {
      "image/png": "[encoded data removed]",
      "text/plain": [
       "<Figure size 576x720 with 3 Axes>"
      ]
     },
     "metadata": {},
     "output_type": "display_data"
    }
   ],
   "source": [
    "fig, axs = plt.subplots(3, figsize=(8,10))\n",
    "sns.set_theme(style='whitegrid')\n",
    "sns.countplot(data = df, x='ever_married', hue='hypertension', ax=axs[0])\n",
    "\n",
    "sns.countplot(data = df, x='ever_married', hue='stroke', ax=axs[1])\n",
    "\n",
    "sns.countplot(data = df, x='ever_married', hue='heart_disease', ax= axs[2])\n"
   ]
  },
  {
   "cell_type": "code",
   "execution_count": 14,
   "id": "acc874c4",
   "metadata": {
    "execution": {
     "iopub.execute_input": "2023-08-25T17:08:37.784644Z",
     "iopub.status.busy": "2023-08-25T17:08:37.783830Z",
     "iopub.status.idle": "2023-08-25T17:08:37.809635Z",
     "shell.execute_reply": "2023-08-25T17:08:37.810183Z",
     "shell.execute_reply.started": "2023-08-25T16:53:01.746623Z"
    },
    "papermill": {
     "duration": 0.119937,
     "end_time": "2023-08-25T17:08:37.810389",
     "exception": false,
     "start_time": "2023-08-25T17:08:37.690452",
     "status": "completed"
    },
    "tags": []
   },
   "outputs": [
    {
     "data": {
      "text/html": [
       "<div>\n",
       "<style scoped>\n",
       "    .dataframe tbody tr th:only-of-type {\n",
       "        vertical-align: middle;\n",
       "    }\n",
       "\n",
       "    .dataframe tbody tr th {\n",
       "        vertical-align: top;\n",
       "    }\n",
       "\n",
       "    .dataframe thead th {\n",
       "        text-align: right;\n",
       "    }\n",
       "</style>\n",
       "<table border=\"1\" class=\"dataframe\">\n",
       "  <thead>\n",
       "    <tr style=\"text-align: right;\">\n",
       "      <th></th>\n",
       "      <th></th>\n",
       "      <th>ever_married</th>\n",
       "      <th>No</th>\n",
       "      <th>Yes</th>\n",
       "    </tr>\n",
       "    <tr>\n",
       "      <th>hypertension</th>\n",
       "      <th>heart_disease</th>\n",
       "      <th>stroke</th>\n",
       "      <th></th>\n",
       "      <th></th>\n",
       "    </tr>\n",
       "  </thead>\n",
       "  <tbody>\n",
       "    <tr>\n",
       "      <th rowspan=\"4\" valign=\"top\">0</th>\n",
       "      <th rowspan=\"2\" valign=\"top\">0</th>\n",
       "      <th>0</th>\n",
       "      <td>1666</td>\n",
       "      <td>2585</td>\n",
       "    </tr>\n",
       "    <tr>\n",
       "      <th>1</th>\n",
       "      <td>15</td>\n",
       "      <td>134</td>\n",
       "    </tr>\n",
       "    <tr>\n",
       "      <th rowspan=\"2\" valign=\"top\">1</th>\n",
       "      <th>0</th>\n",
       "      <td>20</td>\n",
       "      <td>158</td>\n",
       "    </tr>\n",
       "    <tr>\n",
       "      <th>1</th>\n",
       "      <td>3</td>\n",
       "      <td>31</td>\n",
       "    </tr>\n",
       "    <tr>\n",
       "      <th rowspan=\"4\" valign=\"top\">1</th>\n",
       "      <th rowspan=\"2\" valign=\"top\">0</th>\n",
       "      <th>0</th>\n",
       "      <td>37</td>\n",
       "      <td>344</td>\n",
       "    </tr>\n",
       "    <tr>\n",
       "      <th>1</th>\n",
       "      <td>7</td>\n",
       "      <td>46</td>\n",
       "    </tr>\n",
       "    <tr>\n",
       "      <th rowspan=\"2\" valign=\"top\">1</th>\n",
       "      <th>0</th>\n",
       "      <td>5</td>\n",
       "      <td>46</td>\n",
       "    </tr>\n",
       "    <tr>\n",
       "      <th>1</th>\n",
       "      <td>4</td>\n",
       "      <td>9</td>\n",
       "    </tr>\n",
       "  </tbody>\n",
       "</table>\n",
       "</div>"
      ],
      "text/plain": [
       "ever_married                         No   Yes\n",
       "hypertension heart_disease stroke            \n",
       "0            0             0       1666  2585\n",
       "                           1         15   134\n",
       "             1             0         20   158\n",
       "                           1          3    31\n",
       "1            0             0         37   344\n",
       "                           1          7    46\n",
       "             1             0          5    46\n",
       "                           1          4     9"
      ]
     },
     "execution_count": 14,
     "metadata": {},
     "output_type": "execute_result"
    }
   ],
   "source": [
    "pd.crosstab([df['hypertension'], df['heart_disease'],df['stroke']], \n",
    "            df['ever_married'])"
   ]
  },
  {
   "cell_type": "markdown",
   "id": "189e2b7e",
   "metadata": {
    "papermill": {
     "duration": 0.08751,
     "end_time": "2023-08-25T17:08:37.984208",
     "exception": false,
     "start_time": "2023-08-25T17:08:37.896698",
     "status": "completed"
    },
    "tags": []
   },
   "source": [
    "**Those who were ever-married have more cases of hypertension, heart-disease and stroke than those who were not.**"
   ]
  },
  {
   "cell_type": "markdown",
   "id": "668c62c8",
   "metadata": {
    "papermill": {
     "duration": 0.086136,
     "end_time": "2023-08-25T17:08:38.159015",
     "exception": false,
     "start_time": "2023-08-25T17:08:38.072879",
     "status": "completed"
    },
    "tags": []
   },
   "source": [
    "### 5.Work-type\n",
    "Let us see if there is any trend in the type of work a person does and disease\n"
   ]
  },
  {
   "cell_type": "code",
   "execution_count": 15,
   "id": "a43c737a",
   "metadata": {
    "execution": {
     "iopub.execute_input": "2023-08-25T17:08:38.340127Z",
     "iopub.status.busy": "2023-08-25T17:08:38.339313Z",
     "iopub.status.idle": "2023-08-25T17:08:39.130985Z",
     "shell.execute_reply": "2023-08-25T17:08:39.130354Z",
     "shell.execute_reply.started": "2023-08-25T16:53:01.784947Z"
    },
    "papermill": {
     "duration": 0.885604,
     "end_time": "2023-08-25T17:08:39.131167",
     "exception": false,
     "start_time": "2023-08-25T17:08:38.245563",
     "status": "completed"
    },
    "tags": []
   },
   "outputs": [
    {
     "data": {
      "text/plain": [
       "<AxesSubplot:xlabel='work_type', ylabel='count'>"
      ]
     },
     "execution_count": 15,
     "metadata": {},
     "output_type": "execute_result"
    },
    {
     "data": {
      "image/png": "[encoded data removed]",
      "text/plain": [
       "<Figure size 576x720 with 3 Axes>"
      ]
     },
     "metadata": {},
     "output_type": "display_data"
    }
   ],
   "source": [
    "fig, axs = plt.subplots(3, figsize=(8,10))\n",
    "sns.set_theme(style='whitegrid')\n",
    "sns.countplot(data = df, x='work_type', hue='hypertension', ax=axs[0])\n",
    "\n",
    "sns.countplot(data = df, x='work_type', hue='stroke', ax=axs[1])\n",
    "\n",
    "sns.countplot(data = df, x='work_type', hue='heart_disease', ax= axs[2])"
   ]
  },
  {
   "cell_type": "markdown",
   "id": "9d994e76",
   "metadata": {
    "papermill": {
     "duration": 0.088811,
     "end_time": "2023-08-25T17:08:39.309311",
     "exception": false,
     "start_time": "2023-08-25T17:08:39.220500",
     "status": "completed"
    },
    "tags": []
   },
   "source": [
    "**The people in private-sector are at higher risk to develop any of these diseases. People who never-worked are at minimal risk.**"
   ]
  },
  {
   "cell_type": "markdown",
   "id": "c6229c2c",
   "metadata": {
    "papermill": {
     "duration": 0.091865,
     "end_time": "2023-08-25T17:08:39.490232",
     "exception": false,
     "start_time": "2023-08-25T17:08:39.398367",
     "status": "completed"
    },
    "tags": []
   },
   "source": [
    "### 6. Residence-type\n",
    "Let us now find out trend between Residence-type and diseases."
   ]
  },
  {
   "cell_type": "code",
   "execution_count": 16,
   "id": "48bced60",
   "metadata": {
    "execution": {
     "iopub.execute_input": "2023-08-25T17:08:39.674223Z",
     "iopub.status.busy": "2023-08-25T17:08:39.673414Z",
     "iopub.status.idle": "2023-08-25T17:08:40.268863Z",
     "shell.execute_reply": "2023-08-25T17:08:40.269441Z",
     "shell.execute_reply.started": "2023-08-25T16:53:02.617697Z"
    },
    "papermill": {
     "duration": 0.689342,
     "end_time": "2023-08-25T17:08:40.269652",
     "exception": false,
     "start_time": "2023-08-25T17:08:39.580310",
     "status": "completed"
    },
    "tags": []
   },
   "outputs": [
    {
     "data": {
      "text/plain": [
       "<AxesSubplot:xlabel='Residence_type', ylabel='count'>"
      ]
     },
     "execution_count": 16,
     "metadata": {},
     "output_type": "execute_result"
    },
    {
     "data": {
      "image/png": "[encoded data removed]",
      "text/plain": [
       "<Figure size 576x720 with 3 Axes>"
      ]
     },
     "metadata": {},
     "output_type": "display_data"
    }
   ],
   "source": [
    "fig, axs = plt.subplots(3, figsize=(8,10))\n",
    "sns.set_theme(style='whitegrid')\n",
    "sns.countplot(data = df, x='Residence_type', hue='hypertension', ax=axs[0])\n",
    "\n",
    "sns.countplot(data = df, x='Residence_type', hue='stroke', ax=axs[1])\n",
    "\n",
    "sns.countplot(data = df, x='Residence_type', hue='heart_disease', ax= axs[2]) "
   ]
  },
  {
   "cell_type": "markdown",
   "id": "3c72d828",
   "metadata": {
    "papermill": {
     "duration": 0.091106,
     "end_time": "2023-08-25T17:08:40.451535",
     "exception": false,
     "start_time": "2023-08-25T17:08:40.360429",
     "status": "completed"
    },
    "tags": []
   },
   "source": [
    "**The countplot for hypertension, heart-disease and stroke for both (urban and rural) categories of Residence-type does not show major difference between each residents for their diseases. So we can say residence location does not has any significant role in causing stroke.**"
   ]
  },
  {
   "cell_type": "markdown",
   "id": "dfc6bd3f",
   "metadata": {
    "papermill": {
     "duration": 0.092167,
     "end_time": "2023-08-25T17:08:40.634402",
     "exception": false,
     "start_time": "2023-08-25T17:08:40.542235",
     "status": "completed"
    },
    "tags": []
   },
   "source": [
    "### 7. Smoking_status"
   ]
  },
  {
   "cell_type": "code",
   "execution_count": 17,
   "id": "bda3422f",
   "metadata": {
    "execution": {
     "iopub.execute_input": "2023-08-25T17:08:40.822268Z",
     "iopub.status.busy": "2023-08-25T17:08:40.821449Z",
     "iopub.status.idle": "2023-08-25T17:08:41.547096Z",
     "shell.execute_reply": "2023-08-25T17:08:41.547734Z",
     "shell.execute_reply.started": "2023-08-25T16:53:03.274445Z"
    },
    "papermill": {
     "duration": 0.82219,
     "end_time": "2023-08-25T17:08:41.547969",
     "exception": false,
     "start_time": "2023-08-25T17:08:40.725779",
     "status": "completed"
    },
    "tags": []
   },
   "outputs": [
    {
     "data": {
      "text/plain": [
       "<AxesSubplot:xlabel='smoking_status', ylabel='count'>"
      ]
     },
     "execution_count": 17,
     "metadata": {},
     "output_type": "execute_result"
    },
    {
     "data": {
      "image/png": "[encoded data removed]",
      "text/plain": [
       "<Figure size 576x720 with 3 Axes>"
      ]
     },
     "metadata": {},
     "output_type": "display_data"
    }
   ],
   "source": [
    "#     smoking_status    \n",
    "\n",
    "fig, axs = plt.subplots(3, figsize=(8,10))\n",
    "sns.set_theme(style='whitegrid')\n",
    "sns.countplot(data = df, x='smoking_status', hue='hypertension', ax=axs[0])\n",
    "\n",
    "sns.countplot(data = df, x='smoking_status', hue='stroke', ax=axs[1])\n",
    "\n",
    "sns.countplot(data = df, x='smoking_status', hue='heart_disease', ax= axs[2]) "
   ]
  },
  {
   "cell_type": "code",
   "execution_count": 18,
   "id": "9008c207",
   "metadata": {
    "execution": {
     "iopub.execute_input": "2023-08-25T17:08:41.739166Z",
     "iopub.status.busy": "2023-08-25T17:08:41.738308Z",
     "iopub.status.idle": "2023-08-25T17:08:41.765702Z",
     "shell.execute_reply": "2023-08-25T17:08:41.766282Z",
     "shell.execute_reply.started": "2023-08-25T16:53:04.006229Z"
    },
    "papermill": {
     "duration": 0.124741,
     "end_time": "2023-08-25T17:08:41.766488",
     "exception": false,
     "start_time": "2023-08-25T17:08:41.641747",
     "status": "completed"
    },
    "tags": []
   },
   "outputs": [
    {
     "data": {
      "text/html": [
       "<div>\n",
       "<style scoped>\n",
       "    .dataframe tbody tr th:only-of-type {\n",
       "        vertical-align: middle;\n",
       "    }\n",
       "\n",
       "    .dataframe tbody tr th {\n",
       "        vertical-align: top;\n",
       "    }\n",
       "\n",
       "    .dataframe thead th {\n",
       "        text-align: right;\n",
       "    }\n",
       "</style>\n",
       "<table border=\"1\" class=\"dataframe\">\n",
       "  <thead>\n",
       "    <tr style=\"text-align: right;\">\n",
       "      <th>hypertension</th>\n",
       "      <th>0</th>\n",
       "      <th>1</th>\n",
       "    </tr>\n",
       "    <tr>\n",
       "      <th>smoking_status</th>\n",
       "      <th></th>\n",
       "      <th></th>\n",
       "    </tr>\n",
       "  </thead>\n",
       "  <tbody>\n",
       "    <tr>\n",
       "      <th>Unknown</th>\n",
       "      <td>0.323504</td>\n",
       "      <td>0.104418</td>\n",
       "    </tr>\n",
       "    <tr>\n",
       "      <th>formerly smoked</th>\n",
       "      <td>0.165872</td>\n",
       "      <td>0.240964</td>\n",
       "    </tr>\n",
       "    <tr>\n",
       "      <th>never smoked</th>\n",
       "      <td>0.359931</td>\n",
       "      <td>0.465863</td>\n",
       "    </tr>\n",
       "    <tr>\n",
       "      <th>smokes</th>\n",
       "      <td>0.150694</td>\n",
       "      <td>0.188755</td>\n",
       "    </tr>\n",
       "  </tbody>\n",
       "</table>\n",
       "</div>"
      ],
      "text/plain": [
       "hypertension            0         1\n",
       "smoking_status                     \n",
       "Unknown          0.323504  0.104418\n",
       "formerly smoked  0.165872  0.240964\n",
       "never smoked     0.359931  0.465863\n",
       "smokes           0.150694  0.188755"
      ]
     },
     "execution_count": 18,
     "metadata": {},
     "output_type": "execute_result"
    }
   ],
   "source": [
    "pd.crosstab(df['smoking_status'], df['hypertension'], normalize = 'columns')"
   ]
  },
  {
   "cell_type": "markdown",
   "id": "2574cd92",
   "metadata": {
    "papermill": {
     "duration": 0.094316,
     "end_time": "2023-08-25T17:08:41.956504",
     "exception": false,
     "start_time": "2023-08-25T17:08:41.862188",
     "status": "completed"
    },
    "tags": []
   },
   "source": [
    "**From all the patients of Hypertension, highest 46% are from never-smoked group while 24% are from 'formerly-smoked' and and 18% 'smokes' group. For 10% patients of Hypertension patients the smoking-status is unkonwn.**\n",
    "\n",
    "**Although for many(52) of the patients their smoking-status is not-known. But we can make inference based on fact that a big percentage (46% which in numbers is 234 out of 498) of stroke-patients never-smoked.** "
   ]
  },
  {
   "cell_type": "markdown",
   "id": "fef633e5",
   "metadata": {
    "papermill": {
     "duration": 0.092993,
     "end_time": "2023-08-25T17:08:42.146329",
     "exception": false,
     "start_time": "2023-08-25T17:08:42.053336",
     "status": "completed"
    },
    "tags": []
   },
   "source": [
    "### 8. Body-Mass-Index (bmi)\n",
    "Let us find out if there is any relation among these disease data and bmi."
   ]
  },
  {
   "cell_type": "code",
   "execution_count": 19,
   "id": "006d7c74",
   "metadata": {
    "execution": {
     "iopub.execute_input": "2023-08-25T17:08:42.337741Z",
     "iopub.status.busy": "2023-08-25T17:08:42.336985Z",
     "iopub.status.idle": "2023-08-25T17:08:43.425539Z",
     "shell.execute_reply": "2023-08-25T17:08:43.424372Z",
     "shell.execute_reply.started": "2023-08-25T16:53:04.041666Z"
    },
    "papermill": {
     "duration": 1.185515,
     "end_time": "2023-08-25T17:08:43.425713",
     "exception": false,
     "start_time": "2023-08-25T17:08:42.240198",
     "status": "completed"
    },
    "tags": []
   },
   "outputs": [
    {
     "data": {
      "image/png": "[encoded data removed]",
      "text/plain": [
       "<Figure size 813.05x360 with 2 Axes>"
      ]
     },
     "metadata": {},
     "output_type": "display_data"
    }
   ],
   "source": [
    "sns.catplot(x=\"hypertension\", y=\"bmi\",\n",
    "                hue=\"heart_disease\", col=\"stroke\",\n",
    "                data=df, kind=\"bar\",\n",
    "                height=5);"
   ]
  },
  {
   "cell_type": "markdown",
   "id": "e1ed2909",
   "metadata": {
    "papermill": {
     "duration": 0.09571,
     "end_time": "2023-08-25T17:08:43.618740",
     "exception": false,
     "start_time": "2023-08-25T17:08:43.523030",
     "status": "completed"
    },
    "tags": []
   },
   "source": [
    "### 9. Average Glucose-level"
   ]
  },
  {
   "cell_type": "code",
   "execution_count": 20,
   "id": "f01d5426",
   "metadata": {
    "execution": {
     "iopub.execute_input": "2023-08-25T17:08:43.816303Z",
     "iopub.status.busy": "2023-08-25T17:08:43.815401Z",
     "iopub.status.idle": "2023-08-25T17:08:45.103769Z",
     "shell.execute_reply": "2023-08-25T17:08:45.104341Z",
     "shell.execute_reply.started": "2023-08-25T16:53:05.318010Z"
    },
    "papermill": {
     "duration": 1.388726,
     "end_time": "2023-08-25T17:08:45.104559",
     "exception": false,
     "start_time": "2023-08-25T17:08:43.715833",
     "status": "completed"
    },
    "tags": []
   },
   "outputs": [
    {
     "data": {
      "image/png": "[encoded data removed]",
      "text/plain": [
       "<Figure size 813.05x360 with 2 Axes>"
      ]
     },
     "metadata": {},
     "output_type": "display_data"
    }
   ],
   "source": [
    "sns.catplot(x=\"hypertension\", y=\"avg_glucose_level\",\n",
    "                hue=\"heart_disease\", col=\"stroke\",\n",
    "                data=df, kind=\"bar\",\n",
    "                height=5);"
   ]
  },
  {
   "cell_type": "code",
   "execution_count": 21,
   "id": "a783c004",
   "metadata": {
    "execution": {
     "iopub.execute_input": "2023-08-25T17:08:45.302395Z",
     "iopub.status.busy": "2023-08-25T17:08:45.301558Z",
     "iopub.status.idle": "2023-08-25T17:08:45.327490Z",
     "shell.execute_reply": "2023-08-25T17:08:45.326620Z",
     "shell.execute_reply.started": "2023-08-25T16:53:06.457935Z"
    },
    "papermill": {
     "duration": 0.126538,
     "end_time": "2023-08-25T17:08:45.327669",
     "exception": false,
     "start_time": "2023-08-25T17:08:45.201131",
     "status": "completed"
    },
    "tags": []
   },
   "outputs": [
    {
     "name": "stdout",
     "output_type": "stream",
     "text": [
      "Average 'avg_glucose_level' for hypertension:  \n",
      "\n",
      " hypertension  gender\n",
      "0             Female    101.596652\n",
      "              Male      106.337813\n",
      "              Other     143.330000\n",
      "1             Female    128.294855\n",
      "              Male      132.543874\n",
      "Name: avg_glucose_level, dtype: float64 \n",
      "\n",
      "Average 'avg_glucose_level' for Heart-disease :  \n",
      "\n",
      " heart_disease  gender\n",
      "0              Female    102.533624\n",
      "               Male      107.125999\n",
      "               Other     143.330000\n",
      "1              Female    142.917788\n",
      "               Male      132.590613\n",
      "Name: avg_glucose_level, dtype: float64 \n",
      "\n",
      "Average 'avg_glucose_level' for stroke :  \n",
      "\n",
      " stroke  gender\n",
      "0       Female    103.051753\n",
      "        Male      107.255112\n",
      "        Other     143.330000\n",
      "1       Female    124.414397\n",
      "        Male      143.159352\n",
      "Name: avg_glucose_level, dtype: float64\n"
     ]
    }
   ],
   "source": [
    "b =df.groupby(['hypertension', 'gender'])\n",
    "print(\"Average 'avg_glucose_level' for hypertension: \",'\\n'*2 ,b['avg_glucose_level'].aggregate('mean'),'\\n')\n",
    "\n",
    "c =df.groupby(['heart_disease','gender'])\n",
    "print(\"Average 'avg_glucose_level' for Heart-disease : \",'\\n'*2 ,c['avg_glucose_level'].aggregate('mean'),'\\n')\n",
    "\n",
    "a=df.groupby(['stroke','gender'])\n",
    "print(\"Average 'avg_glucose_level' for stroke : \",'\\n' *2 ,a['avg_glucose_level'].aggregate('mean'))"
   ]
  },
  {
   "cell_type": "markdown",
   "id": "7bc4d50e",
   "metadata": {
    "papermill": {
     "duration": 0.095977,
     "end_time": "2023-08-25T17:08:45.521330",
     "exception": false,
     "start_time": "2023-08-25T17:08:45.425353",
     "status": "completed"
    },
    "tags": []
   },
   "source": [
    "**Mean glucose-level among hypertension patients is slightly higher for males(132) than females(128)**\n",
    "\n",
    "**The mean value of glucose-level in Heart-disease patients are higher for females(about 143) than that for males(about 132)**\n",
    "\n",
    "**The stroke patients who have mean-glucose level of about 124 for females and 143 for males. Here females show lower mean value of glucose level that for males**\n",
    "\n",
    "Overall, we can say that high glucose level is common among all these patients."
   ]
  },
  {
   "cell_type": "markdown",
   "id": "0ec942cb",
   "metadata": {
    "papermill": {
     "duration": 0.096656,
     "end_time": "2023-08-25T17:08:45.714383",
     "exception": false,
     "start_time": "2023-08-25T17:08:45.617727",
     "status": "completed"
    },
    "tags": []
   },
   "source": [
    "## B- Preprocessing\n",
    "Let us find all the columns that contain string type categorical data. \n",
    "And using Scikit-learn library change the string type categorical variable columns to numerical type."
   ]
  },
  {
   "cell_type": "code",
   "execution_count": 22,
   "id": "de09acc2",
   "metadata": {
    "execution": {
     "iopub.execute_input": "2023-08-25T17:08:45.916332Z",
     "iopub.status.busy": "2023-08-25T17:08:45.915179Z",
     "iopub.status.idle": "2023-08-25T17:08:45.949955Z",
     "shell.execute_reply": "2023-08-25T17:08:45.949311Z",
     "shell.execute_reply.started": "2023-08-25T16:53:06.482932Z"
    },
    "papermill": {
     "duration": 0.139674,
     "end_time": "2023-08-25T17:08:45.950128",
     "exception": false,
     "start_time": "2023-08-25T17:08:45.810454",
     "status": "completed"
    },
    "tags": []
   },
   "outputs": [
    {
     "name": "stdout",
     "output_type": "stream",
     "text": [
      "Index(['gender', 'ever_married', 'work_type', 'Residence_type',\n",
      "       'smoking_status'],\n",
      "      dtype='object')\n"
     ]
    },
    {
     "data": {
      "text/html": [
       "<div>\n",
       "<style scoped>\n",
       "    .dataframe tbody tr th:only-of-type {\n",
       "        vertical-align: middle;\n",
       "    }\n",
       "\n",
       "    .dataframe tbody tr th {\n",
       "        vertical-align: top;\n",
       "    }\n",
       "\n",
       "    .dataframe thead th {\n",
       "        text-align: right;\n",
       "    }\n",
       "</style>\n",
       "<table border=\"1\" class=\"dataframe\">\n",
       "  <thead>\n",
       "    <tr style=\"text-align: right;\">\n",
       "      <th></th>\n",
       "      <th>gender</th>\n",
       "      <th>age</th>\n",
       "      <th>hypertension</th>\n",
       "      <th>heart_disease</th>\n",
       "      <th>ever_married</th>\n",
       "      <th>work_type</th>\n",
       "      <th>Residence_type</th>\n",
       "      <th>avg_glucose_level</th>\n",
       "      <th>bmi</th>\n",
       "      <th>smoking_status</th>\n",
       "      <th>stroke</th>\n",
       "    </tr>\n",
       "  </thead>\n",
       "  <tbody>\n",
       "    <tr>\n",
       "      <th>0</th>\n",
       "      <td>1</td>\n",
       "      <td>88</td>\n",
       "      <td>0</td>\n",
       "      <td>1</td>\n",
       "      <td>1</td>\n",
       "      <td>2</td>\n",
       "      <td>1</td>\n",
       "      <td>3850</td>\n",
       "      <td>240</td>\n",
       "      <td>1</td>\n",
       "      <td>1</td>\n",
       "    </tr>\n",
       "    <tr>\n",
       "      <th>1</th>\n",
       "      <td>0</td>\n",
       "      <td>82</td>\n",
       "      <td>0</td>\n",
       "      <td>0</td>\n",
       "      <td>1</td>\n",
       "      <td>3</td>\n",
       "      <td>0</td>\n",
       "      <td>3588</td>\n",
       "      <td>162</td>\n",
       "      <td>2</td>\n",
       "      <td>1</td>\n",
       "    </tr>\n",
       "    <tr>\n",
       "      <th>2</th>\n",
       "      <td>1</td>\n",
       "      <td>101</td>\n",
       "      <td>0</td>\n",
       "      <td>1</td>\n",
       "      <td>1</td>\n",
       "      <td>2</td>\n",
       "      <td>0</td>\n",
       "      <td>2483</td>\n",
       "      <td>199</td>\n",
       "      <td>2</td>\n",
       "      <td>1</td>\n",
       "    </tr>\n",
       "    <tr>\n",
       "      <th>3</th>\n",
       "      <td>0</td>\n",
       "      <td>70</td>\n",
       "      <td>0</td>\n",
       "      <td>0</td>\n",
       "      <td>1</td>\n",
       "      <td>2</td>\n",
       "      <td>1</td>\n",
       "      <td>3385</td>\n",
       "      <td>218</td>\n",
       "      <td>3</td>\n",
       "      <td>1</td>\n",
       "    </tr>\n",
       "    <tr>\n",
       "      <th>4</th>\n",
       "      <td>0</td>\n",
       "      <td>100</td>\n",
       "      <td>1</td>\n",
       "      <td>0</td>\n",
       "      <td>1</td>\n",
       "      <td>3</td>\n",
       "      <td>0</td>\n",
       "      <td>3394</td>\n",
       "      <td>113</td>\n",
       "      <td>2</td>\n",
       "      <td>1</td>\n",
       "    </tr>\n",
       "  </tbody>\n",
       "</table>\n",
       "</div>"
      ],
      "text/plain": [
       "   gender  age  hypertension  heart_disease  ever_married  work_type  \\\n",
       "0       1   88             0              1             1          2   \n",
       "1       0   82             0              0             1          3   \n",
       "2       1  101             0              1             1          2   \n",
       "3       0   70             0              0             1          2   \n",
       "4       0  100             1              0             1          3   \n",
       "\n",
       "   Residence_type  avg_glucose_level  bmi  smoking_status  stroke  \n",
       "0               1               3850  240               1       1  \n",
       "1               0               3588  162               2       1  \n",
       "2               0               2483  199               2       1  \n",
       "3               1               3385  218               3       1  \n",
       "4               0               3394  113               2       1  "
      ]
     },
     "execution_count": 22,
     "metadata": {},
     "output_type": "execute_result"
    }
   ],
   "source": [
    "cat_col = df.select_dtypes(['object']).columns\n",
    "print(cat_col)\n",
    "label_encode = LabelEncoder()    #initializing an object of class LabelEncoder\n",
    "for i in df.columns:\n",
    "    df[i] = label_encode.fit_transform(df[i])\n",
    "df.head()"
   ]
  },
  {
   "cell_type": "markdown",
   "id": "8ea4b1aa",
   "metadata": {
    "papermill": {
     "duration": 0.098315,
     "end_time": "2023-08-25T17:08:46.150396",
     "exception": false,
     "start_time": "2023-08-25T17:08:46.052081",
     "status": "completed"
    },
    "tags": []
   },
   "source": [
    "Let us see correlation table and Heat-map."
   ]
  },
  {
   "cell_type": "code",
   "execution_count": 23,
   "id": "109939e4",
   "metadata": {
    "execution": {
     "iopub.execute_input": "2023-08-25T17:08:46.352896Z",
     "iopub.status.busy": "2023-08-25T17:08:46.351834Z",
     "iopub.status.idle": "2023-08-25T17:08:46.377691Z",
     "shell.execute_reply": "2023-08-25T17:08:46.378425Z",
     "shell.execute_reply.started": "2023-08-25T16:53:06.527481Z"
    },
    "papermill": {
     "duration": 0.130939,
     "end_time": "2023-08-25T17:08:46.378628",
     "exception": false,
     "start_time": "2023-08-25T17:08:46.247689",
     "status": "completed"
    },
    "tags": []
   },
   "outputs": [
    {
     "data": {
      "text/html": [
       "<div>\n",
       "<style scoped>\n",
       "    .dataframe tbody tr th:only-of-type {\n",
       "        vertical-align: middle;\n",
       "    }\n",
       "\n",
       "    .dataframe tbody tr th {\n",
       "        vertical-align: top;\n",
       "    }\n",
       "\n",
       "    .dataframe thead th {\n",
       "        text-align: right;\n",
       "    }\n",
       "</style>\n",
       "<table border=\"1\" class=\"dataframe\">\n",
       "  <thead>\n",
       "    <tr style=\"text-align: right;\">\n",
       "      <th></th>\n",
       "      <th>gender</th>\n",
       "      <th>age</th>\n",
       "      <th>hypertension</th>\n",
       "      <th>heart_disease</th>\n",
       "      <th>ever_married</th>\n",
       "      <th>work_type</th>\n",
       "      <th>Residence_type</th>\n",
       "      <th>avg_glucose_level</th>\n",
       "      <th>bmi</th>\n",
       "      <th>smoking_status</th>\n",
       "      <th>stroke</th>\n",
       "    </tr>\n",
       "  </thead>\n",
       "  <tbody>\n",
       "    <tr>\n",
       "      <th>gender</th>\n",
       "      <td>1.000000</td>\n",
       "      <td>-0.030616</td>\n",
       "      <td>0.020994</td>\n",
       "      <td>0.085447</td>\n",
       "      <td>-0.031005</td>\n",
       "      <td>0.056422</td>\n",
       "      <td>-0.006738</td>\n",
       "      <td>0.050396</td>\n",
       "      <td>-0.026778</td>\n",
       "      <td>-0.062581</td>\n",
       "      <td>0.008929</td>\n",
       "    </tr>\n",
       "    <tr>\n",
       "      <th>age</th>\n",
       "      <td>-0.030616</td>\n",
       "      <td>1.000000</td>\n",
       "      <td>0.273891</td>\n",
       "      <td>0.260691</td>\n",
       "      <td>0.678447</td>\n",
       "      <td>-0.370303</td>\n",
       "      <td>0.013461</td>\n",
       "      <td>0.150619</td>\n",
       "      <td>0.347834</td>\n",
       "      <td>0.272053</td>\n",
       "      <td>0.242122</td>\n",
       "    </tr>\n",
       "    <tr>\n",
       "      <th>hypertension</th>\n",
       "      <td>0.020994</td>\n",
       "      <td>0.273891</td>\n",
       "      <td>1.000000</td>\n",
       "      <td>0.108306</td>\n",
       "      <td>0.164243</td>\n",
       "      <td>-0.051761</td>\n",
       "      <td>-0.007913</td>\n",
       "      <td>0.121690</td>\n",
       "      <td>0.156654</td>\n",
       "      <td>0.111038</td>\n",
       "      <td>0.127904</td>\n",
       "    </tr>\n",
       "    <tr>\n",
       "      <th>heart_disease</th>\n",
       "      <td>0.085447</td>\n",
       "      <td>0.260691</td>\n",
       "      <td>0.108306</td>\n",
       "      <td>1.000000</td>\n",
       "      <td>0.114644</td>\n",
       "      <td>-0.028023</td>\n",
       "      <td>0.003092</td>\n",
       "      <td>0.113220</td>\n",
       "      <td>0.042917</td>\n",
       "      <td>0.048460</td>\n",
       "      <td>0.134914</td>\n",
       "    </tr>\n",
       "    <tr>\n",
       "      <th>ever_married</th>\n",
       "      <td>-0.031005</td>\n",
       "      <td>0.678447</td>\n",
       "      <td>0.164243</td>\n",
       "      <td>0.114644</td>\n",
       "      <td>1.000000</td>\n",
       "      <td>-0.352722</td>\n",
       "      <td>0.006261</td>\n",
       "      <td>0.104863</td>\n",
       "      <td>0.348948</td>\n",
       "      <td>0.259647</td>\n",
       "      <td>0.108340</td>\n",
       "    </tr>\n",
       "    <tr>\n",
       "      <th>work_type</th>\n",
       "      <td>0.056422</td>\n",
       "      <td>-0.370303</td>\n",
       "      <td>-0.051761</td>\n",
       "      <td>-0.028023</td>\n",
       "      <td>-0.352722</td>\n",
       "      <td>1.000000</td>\n",
       "      <td>-0.007316</td>\n",
       "      <td>-0.026725</td>\n",
       "      <td>-0.310049</td>\n",
       "      <td>-0.305927</td>\n",
       "      <td>-0.032316</td>\n",
       "    </tr>\n",
       "    <tr>\n",
       "      <th>Residence_type</th>\n",
       "      <td>-0.006738</td>\n",
       "      <td>0.013461</td>\n",
       "      <td>-0.007913</td>\n",
       "      <td>0.003092</td>\n",
       "      <td>0.006261</td>\n",
       "      <td>-0.007316</td>\n",
       "      <td>1.000000</td>\n",
       "      <td>-0.012632</td>\n",
       "      <td>0.002529</td>\n",
       "      <td>0.008237</td>\n",
       "      <td>0.015458</td>\n",
       "    </tr>\n",
       "    <tr>\n",
       "      <th>avg_glucose_level</th>\n",
       "      <td>0.050396</td>\n",
       "      <td>0.150619</td>\n",
       "      <td>0.121690</td>\n",
       "      <td>0.113220</td>\n",
       "      <td>0.104863</td>\n",
       "      <td>-0.026725</td>\n",
       "      <td>-0.012632</td>\n",
       "      <td>1.000000</td>\n",
       "      <td>0.118591</td>\n",
       "      <td>0.041203</td>\n",
       "      <td>0.088833</td>\n",
       "    </tr>\n",
       "    <tr>\n",
       "      <th>bmi</th>\n",
       "      <td>-0.026778</td>\n",
       "      <td>0.347834</td>\n",
       "      <td>0.156654</td>\n",
       "      <td>0.042917</td>\n",
       "      <td>0.348948</td>\n",
       "      <td>-0.310049</td>\n",
       "      <td>0.002529</td>\n",
       "      <td>0.118591</td>\n",
       "      <td>1.000000</td>\n",
       "      <td>0.227303</td>\n",
       "      <td>0.042307</td>\n",
       "    </tr>\n",
       "    <tr>\n",
       "      <th>smoking_status</th>\n",
       "      <td>-0.062581</td>\n",
       "      <td>0.272053</td>\n",
       "      <td>0.111038</td>\n",
       "      <td>0.048460</td>\n",
       "      <td>0.259647</td>\n",
       "      <td>-0.305927</td>\n",
       "      <td>0.008237</td>\n",
       "      <td>0.041203</td>\n",
       "      <td>0.227303</td>\n",
       "      <td>1.000000</td>\n",
       "      <td>0.028123</td>\n",
       "    </tr>\n",
       "    <tr>\n",
       "      <th>stroke</th>\n",
       "      <td>0.008929</td>\n",
       "      <td>0.242122</td>\n",
       "      <td>0.127904</td>\n",
       "      <td>0.134914</td>\n",
       "      <td>0.108340</td>\n",
       "      <td>-0.032316</td>\n",
       "      <td>0.015458</td>\n",
       "      <td>0.088833</td>\n",
       "      <td>0.042307</td>\n",
       "      <td>0.028123</td>\n",
       "      <td>1.000000</td>\n",
       "    </tr>\n",
       "  </tbody>\n",
       "</table>\n",
       "</div>"
      ],
      "text/plain": [
       "                     gender       age  hypertension  heart_disease  \\\n",
       "gender             1.000000 -0.030616      0.020994       0.085447   \n",
       "age               -0.030616  1.000000      0.273891       0.260691   \n",
       "hypertension       0.020994  0.273891      1.000000       0.108306   \n",
       "heart_disease      0.085447  0.260691      0.108306       1.000000   \n",
       "ever_married      -0.031005  0.678447      0.164243       0.114644   \n",
       "work_type          0.056422 -0.370303     -0.051761      -0.028023   \n",
       "Residence_type    -0.006738  0.013461     -0.007913       0.003092   \n",
       "avg_glucose_level  0.050396  0.150619      0.121690       0.113220   \n",
       "bmi               -0.026778  0.347834      0.156654       0.042917   \n",
       "smoking_status    -0.062581  0.272053      0.111038       0.048460   \n",
       "stroke             0.008929  0.242122      0.127904       0.134914   \n",
       "\n",
       "                   ever_married  work_type  Residence_type  avg_glucose_level  \\\n",
       "gender                -0.031005   0.056422       -0.006738           0.050396   \n",
       "age                    0.678447  -0.370303        0.013461           0.150619   \n",
       "hypertension           0.164243  -0.051761       -0.007913           0.121690   \n",
       "heart_disease          0.114644  -0.028023        0.003092           0.113220   \n",
       "ever_married           1.000000  -0.352722        0.006261           0.104863   \n",
       "work_type             -0.352722   1.000000       -0.007316          -0.026725   \n",
       "Residence_type         0.006261  -0.007316        1.000000          -0.012632   \n",
       "avg_glucose_level      0.104863  -0.026725       -0.012632           1.000000   \n",
       "bmi                    0.348948  -0.310049        0.002529           0.118591   \n",
       "smoking_status         0.259647  -0.305927        0.008237           0.041203   \n",
       "stroke                 0.108340  -0.032316        0.015458           0.088833   \n",
       "\n",
       "                        bmi  smoking_status    stroke  \n",
       "gender            -0.026778       -0.062581  0.008929  \n",
       "age                0.347834        0.272053  0.242122  \n",
       "hypertension       0.156654        0.111038  0.127904  \n",
       "heart_disease      0.042917        0.048460  0.134914  \n",
       "ever_married       0.348948        0.259647  0.108340  \n",
       "work_type         -0.310049       -0.305927 -0.032316  \n",
       "Residence_type     0.002529        0.008237  0.015458  \n",
       "avg_glucose_level  0.118591        0.041203  0.088833  \n",
       "bmi                1.000000        0.227303  0.042307  \n",
       "smoking_status     0.227303        1.000000  0.028123  \n",
       "stroke             0.042307        0.028123  1.000000  "
      ]
     },
     "execution_count": 23,
     "metadata": {},
     "output_type": "execute_result"
    }
   ],
   "source": [
    "df.corr()"
   ]
  },
  {
   "cell_type": "code",
   "execution_count": 24,
   "id": "2b783cfd",
   "metadata": {
    "execution": {
     "iopub.execute_input": "2023-08-25T17:08:46.579276Z",
     "iopub.status.busy": "2023-08-25T17:08:46.578476Z",
     "iopub.status.idle": "2023-08-25T17:08:47.126215Z",
     "shell.execute_reply": "2023-08-25T17:08:47.125546Z",
     "shell.execute_reply.started": "2023-08-25T16:53:06.560904Z"
    },
    "papermill": {
     "duration": 0.649358,
     "end_time": "2023-08-25T17:08:47.126381",
     "exception": false,
     "start_time": "2023-08-25T17:08:46.477023",
     "status": "completed"
    },
    "tags": []
   },
   "outputs": [
    {
     "data": {
      "text/plain": [
       "<AxesSubplot:>"
      ]
     },
     "execution_count": 24,
     "metadata": {},
     "output_type": "execute_result"
    },
    {
     "data": {
      "image/png": "[encoded data removed]",
      "text/plain": [
       "<Figure size 432x288 with 2 Axes>"
      ]
     },
     "metadata": {},
     "output_type": "display_data"
    }
   ],
   "source": [
    "plt.plot(figsize=(15,15))\n",
    "sns.heatmap(df.corr())"
   ]
  },
  {
   "cell_type": "markdown",
   "id": "ceb20cc0",
   "metadata": {
    "papermill": {
     "duration": 0.101263,
     "end_time": "2023-08-25T17:08:47.328574",
     "exception": false,
     "start_time": "2023-08-25T17:08:47.227311",
     "status": "completed"
    },
    "tags": []
   },
   "source": [
    "###  Feature-selection\n",
    "**Feature selection technique permits researchers to choose measures that are maximally predictive of relevant outcomes, even when there are interactions or nonlinearities. These techniques facilitate decisions about which measures may be dropped from a study while maintaining efficiency of prediction**\n",
    "\n",
    "**Let us choose best features, using SelectKBest method, which is a univariate feature selection method, using f_classif as scoring function. For classification, scoring functions based on F-test estimate the degree of linear dependency between two random variables.**"
   ]
  },
  {
   "cell_type": "code",
   "execution_count": 25,
   "id": "4bb6a182",
   "metadata": {
    "execution": {
     "iopub.execute_input": "2023-08-25T17:08:47.542707Z",
     "iopub.status.busy": "2023-08-25T17:08:47.541826Z",
     "iopub.status.idle": "2023-08-25T17:08:47.547275Z",
     "shell.execute_reply": "2023-08-25T17:08:47.547827Z",
     "shell.execute_reply.started": "2023-08-25T16:53:07.094523Z"
    },
    "papermill": {
     "duration": 0.117294,
     "end_time": "2023-08-25T17:08:47.548045",
     "exception": false,
     "start_time": "2023-08-25T17:08:47.430751",
     "status": "completed"
    },
    "tags": []
   },
   "outputs": [],
   "source": [
    "#drop target columns\n",
    "drop_col = ['stroke']\n",
    "\n",
    "#dataset containing the features columns\n",
    "x_feat = df.iloc[:,0:10]     #independent variable (predictors)\n",
    "y_tar = df['stroke']      # target feature column\n",
    "\n",
    "best_feat = SelectKBest(score_func = f_classif, k='all')\n",
    "features_fitted = best_feat.fit(x_feat, y_tar)\n",
    "df_scores = pd.DataFrame(features_fitted.scores_)\n",
    "df_columns = pd.DataFrame(x_feat.columns)\n"
   ]
  },
  {
   "cell_type": "code",
   "execution_count": 26,
   "id": "eaddbf10",
   "metadata": {
    "execution": {
     "iopub.execute_input": "2023-08-25T17:08:47.753753Z",
     "iopub.status.busy": "2023-08-25T17:08:47.752987Z",
     "iopub.status.idle": "2023-08-25T17:08:47.769292Z",
     "shell.execute_reply": "2023-08-25T17:08:47.768519Z",
     "shell.execute_reply.started": "2023-08-25T16:53:07.112567Z"
    },
    "papermill": {
     "duration": 0.120657,
     "end_time": "2023-08-25T17:08:47.769453",
     "exception": false,
     "start_time": "2023-08-25T17:08:47.648796",
     "status": "completed"
    },
    "tags": []
   },
   "outputs": [
    {
     "data": {
      "text/html": [
       "<div>\n",
       "<style scoped>\n",
       "    .dataframe tbody tr th:only-of-type {\n",
       "        vertical-align: middle;\n",
       "    }\n",
       "\n",
       "    .dataframe tbody tr th {\n",
       "        vertical-align: top;\n",
       "    }\n",
       "\n",
       "    .dataframe thead th {\n",
       "        text-align: right;\n",
       "    }\n",
       "</style>\n",
       "<table border=\"1\" class=\"dataframe\">\n",
       "  <thead>\n",
       "    <tr style=\"text-align: right;\">\n",
       "      <th></th>\n",
       "      <th>Features</th>\n",
       "      <th>Score</th>\n",
       "    </tr>\n",
       "  </thead>\n",
       "  <tbody>\n",
       "    <tr>\n",
       "      <th>0</th>\n",
       "      <td>gender</td>\n",
       "      <td>0.407266</td>\n",
       "    </tr>\n",
       "    <tr>\n",
       "      <th>1</th>\n",
       "      <td>age</td>\n",
       "      <td>318.094573</td>\n",
       "    </tr>\n",
       "    <tr>\n",
       "      <th>2</th>\n",
       "      <td>hypertension</td>\n",
       "      <td>84.953542</td>\n",
       "    </tr>\n",
       "    <tr>\n",
       "      <th>3</th>\n",
       "      <td>heart_disease</td>\n",
       "      <td>94.698406</td>\n",
       "    </tr>\n",
       "    <tr>\n",
       "      <th>4</th>\n",
       "      <td>ever_married</td>\n",
       "      <td>60.667230</td>\n",
       "    </tr>\n",
       "    <tr>\n",
       "      <th>5</th>\n",
       "      <td>work_type</td>\n",
       "      <td>5.340019</td>\n",
       "    </tr>\n",
       "    <tr>\n",
       "      <th>6</th>\n",
       "      <td>Residence_type</td>\n",
       "      <td>1.220842</td>\n",
       "    </tr>\n",
       "    <tr>\n",
       "      <th>7</th>\n",
       "      <td>avg_glucose_level</td>\n",
       "      <td>40.629589</td>\n",
       "    </tr>\n",
       "    <tr>\n",
       "      <th>8</th>\n",
       "      <td>bmi</td>\n",
       "      <td>9.159169</td>\n",
       "    </tr>\n",
       "    <tr>\n",
       "      <th>9</th>\n",
       "      <td>smoking_status</td>\n",
       "      <td>4.043033</td>\n",
       "    </tr>\n",
       "  </tbody>\n",
       "</table>\n",
       "</div>"
      ],
      "text/plain": [
       "            Features       Score\n",
       "0             gender    0.407266\n",
       "1                age  318.094573\n",
       "2       hypertension   84.953542\n",
       "3      heart_disease   94.698406\n",
       "4       ever_married   60.667230\n",
       "5          work_type    5.340019\n",
       "6     Residence_type    1.220842\n",
       "7  avg_glucose_level   40.629589\n",
       "8                bmi    9.159169\n",
       "9     smoking_status    4.043033"
      ]
     },
     "execution_count": 26,
     "metadata": {},
     "output_type": "execute_result"
    }
   ],
   "source": [
    "# concatenate dataframes\n",
    "feature_scores = pd.concat([df_columns , df_scores], axis =1)\n",
    "feature_scores.columns = ['Features','Score']\n",
    "\n",
    "#sorting the feature dataframe based on score values\n",
    "feature_scores.sort_values(by='Score',ascending=False)\n",
    "feature_scores"
   ]
  },
  {
   "cell_type": "markdown",
   "id": "9fffc0e9",
   "metadata": {
    "papermill": {
     "duration": 0.101121,
     "end_time": "2023-08-25T17:08:47.971548",
     "exception": false,
     "start_time": "2023-08-25T17:08:47.870427",
     "status": "completed"
    },
    "tags": []
   },
   "source": [
    "Selecting features with scores greater than 60"
   ]
  },
  {
   "cell_type": "code",
   "execution_count": 27,
   "id": "50369d60",
   "metadata": {
    "execution": {
     "iopub.execute_input": "2023-08-25T17:08:48.187131Z",
     "iopub.status.busy": "2023-08-25T17:08:48.186263Z",
     "iopub.status.idle": "2023-08-25T17:08:48.190390Z",
     "shell.execute_reply": "2023-08-25T17:08:48.189644Z",
     "shell.execute_reply.started": "2023-08-25T16:53:07.134306Z"
    },
    "papermill": {
     "duration": 0.113911,
     "end_time": "2023-08-25T17:08:48.190548",
     "exception": false,
     "start_time": "2023-08-25T17:08:48.076637",
     "status": "completed"
    },
    "tags": []
   },
   "outputs": [
    {
     "name": "stdout",
     "output_type": "stream",
     "text": [
      "Choosen features :  \n",
      " 1              age\n",
      "2     hypertension\n",
      "3    heart_disease\n",
      "4     ever_married\n",
      "Name: Features, dtype: object\n"
     ]
    }
   ],
   "source": [
    "cols = feature_scores[feature_scores['Score']>60]['Features']\n",
    "print('Choosen features : ','\\n', cols)"
   ]
  },
  {
   "cell_type": "markdown",
   "id": "dfa0e2f4",
   "metadata": {
    "papermill": {
     "duration": 0.10071,
     "end_time": "2023-08-25T17:08:48.392772",
     "exception": false,
     "start_time": "2023-08-25T17:08:48.292062",
     "status": "completed"
    },
    "tags": []
   },
   "source": [
    "### Normalizing the dataset."
   ]
  },
  {
   "cell_type": "code",
   "execution_count": 28,
   "id": "500637b3",
   "metadata": {
    "execution": {
     "iopub.execute_input": "2023-08-25T17:08:48.604466Z",
     "iopub.status.busy": "2023-08-25T17:08:48.603661Z",
     "iopub.status.idle": "2023-08-25T17:08:48.612475Z",
     "shell.execute_reply": "2023-08-25T17:08:48.613110Z",
     "shell.execute_reply.started": "2023-08-25T16:53:07.146499Z"
    },
    "papermill": {
     "duration": 0.116776,
     "end_time": "2023-08-25T17:08:48.613308",
     "exception": false,
     "start_time": "2023-08-25T17:08:48.496532",
     "status": "completed"
    },
    "tags": []
   },
   "outputs": [],
   "source": [
    "x=df[cols].values\n",
    "y=df['stroke'].values\n",
    "from sklearn import preprocessing\n",
    "x = preprocessing.StandardScaler().fit_transform(x)"
   ]
  },
  {
   "cell_type": "markdown",
   "id": "0a093d03",
   "metadata": {
    "papermill": {
     "duration": 0.104251,
     "end_time": "2023-08-25T17:08:48.820598",
     "exception": false,
     "start_time": "2023-08-25T17:08:48.716347",
     "status": "completed"
    },
    "tags": []
   },
   "source": [
    "### Splitting the dataset into training and testing sets."
   ]
  },
  {
   "cell_type": "code",
   "execution_count": 29,
   "id": "43de3c54",
   "metadata": {
    "execution": {
     "iopub.execute_input": "2023-08-25T17:08:49.033513Z",
     "iopub.status.busy": "2023-08-25T17:08:49.032552Z",
     "iopub.status.idle": "2023-08-25T17:08:49.043520Z",
     "shell.execute_reply": "2023-08-25T17:08:49.042668Z",
     "shell.execute_reply.started": "2023-08-25T16:53:07.163270Z"
    },
    "papermill": {
     "duration": 0.120942,
     "end_time": "2023-08-25T17:08:49.043693",
     "exception": false,
     "start_time": "2023-08-25T17:08:48.922751",
     "status": "completed"
    },
    "tags": []
   },
   "outputs": [
    {
     "data": {
      "text/plain": [
       "((3832, 4), (1278, 4), (3832,), (1278,))"
      ]
     },
     "execution_count": 29,
     "metadata": {},
     "output_type": "execute_result"
    }
   ],
   "source": [
    "x_train, x_test, y_train, y_test = train_test_split(x,y,random_state = 50, test_size =0.25)\n",
    "x_train.shape,x_test.shape,y_train.shape, y_test.shape"
   ]
  },
  {
   "cell_type": "markdown",
   "id": "de6c3376",
   "metadata": {
    "papermill": {
     "duration": 0.101975,
     "end_time": "2023-08-25T17:08:49.249218",
     "exception": false,
     "start_time": "2023-08-25T17:08:49.147243",
     "status": "completed"
    },
    "tags": []
   },
   "source": [
    "### **Modelling**\n",
    "\n",
    "### Let us now implement Logistic regression algorithm.\n",
    "\n",
    "Let's build our model using LogisticRegression from the Scikit-learn package. This function implements logistic regression and can use different numerical optimizers to find parameters, including ‘newton-cg’, ‘lbfgs’, ‘liblinear’, ‘sag’, ‘saga’ solvers.  C parameter indicates inverse of regularization strength which must be a positive float. Smaller values specify stronger regularization.\n",
    "\n"
   ]
  },
  {
   "cell_type": "code",
   "execution_count": 30,
   "id": "adf43fc8",
   "metadata": {
    "execution": {
     "iopub.execute_input": "2023-08-25T17:08:49.461593Z",
     "iopub.status.busy": "2023-08-25T17:08:49.460457Z",
     "iopub.status.idle": "2023-08-25T17:08:49.838719Z",
     "shell.execute_reply": "2023-08-25T17:08:49.837958Z",
     "shell.execute_reply.started": "2023-08-25T16:53:07.182676Z"
    },
    "papermill": {
     "duration": 0.485623,
     "end_time": "2023-08-25T17:08:49.838890",
     "exception": false,
     "start_time": "2023-08-25T17:08:49.353267",
     "status": "completed"
    },
    "tags": []
   },
   "outputs": [
    {
     "name": "stdout",
     "output_type": "stream",
     "text": [
      "F1 Score for Logistic regression model : 0.00\n",
      "Accuracy : 0.96\n"
     ]
    },
    {
     "data": {
      "image/png": "[encoded data removed]",
      "text/plain": [
       "<Figure size 432x288 with 2 Axes>"
      ]
     },
     "metadata": {},
     "output_type": "display_data"
    }
   ],
   "source": [
    "#from sklearn.linear_model import LogisticRegression\n",
    "\n",
    "LR = LogisticRegression(C=0.1, solver='liblinear').fit(x_train, y_train)\n",
    "\n",
    "yp_lr = LR.predict(x_test)\n",
    "\n",
    "#f1_score:\n",
    "yf = f1_score(y_test,yp_lr )\n",
    "\n",
    "ya = metrics.accuracy_score(y_test,yp_lr)     \n",
    "\n",
    "print('F1 Score for Logistic regression model : %.2f'%yf)\n",
    "print('Accuracy : %.2f'%ya)\n",
    "\n",
    "plot_confusion_matrix(LR, x_test, y_test,cmap='YlGn')\n",
    "plt.title('Cofusion matrix for model')\n",
    "\n",
    "plt.show()  "
   ]
  },
  {
   "cell_type": "markdown",
   "id": "dbbd741c",
   "metadata": {
    "papermill": {
     "duration": 0.107648,
     "end_time": "2023-08-25T17:08:50.049989",
     "exception": false,
     "start_time": "2023-08-25T17:08:49.942341",
     "status": "completed"
    },
    "tags": []
   },
   "source": [
    "**As shown by confusion matrix the Logistic regression classifier gives zero true-positives so precision will be zero.**\n",
    "\n",
    "**The zero value of F1-score shows that the model is failure.**"
   ]
  },
  {
   "cell_type": "markdown",
   "id": "70586923",
   "metadata": {
    "papermill": {
     "duration": 0.10376,
     "end_time": "2023-08-25T17:08:50.257993",
     "exception": false,
     "start_time": "2023-08-25T17:08:50.154233",
     "status": "completed"
    },
    "tags": []
   },
   "source": [
    "Now let us try to model using three more algorithms namely: K-Nearest Neighbor, Decision Trees and Support Vector Machine. Then we will compare their results using different evaluation matrices."
   ]
  },
  {
   "cell_type": "code",
   "execution_count": 31,
   "id": "9a3a0ccc",
   "metadata": {
    "execution": {
     "iopub.execute_input": "2023-08-25T17:08:50.472823Z",
     "iopub.status.busy": "2023-08-25T17:08:50.472033Z",
     "iopub.status.idle": "2023-08-25T17:08:50.475522Z",
     "shell.execute_reply": "2023-08-25T17:08:50.474830Z",
     "shell.execute_reply.started": "2023-08-25T16:53:07.595134Z"
    },
    "papermill": {
     "duration": 0.112969,
     "end_time": "2023-08-25T17:08:50.475680",
     "exception": false,
     "start_time": "2023-08-25T17:08:50.362711",
     "status": "completed"
    },
    "tags": []
   },
   "outputs": [],
   "source": [
    "# declaring three list variables to strore various evaluation matrices\n",
    "acc_val = []\n",
    "f1_val = []\n",
    "macc_val = []"
   ]
  },
  {
   "cell_type": "markdown",
   "id": "595f6e60",
   "metadata": {
    "papermill": {
     "duration": 0.103092,
     "end_time": "2023-08-25T17:08:50.682823",
     "exception": false,
     "start_time": "2023-08-25T17:08:50.579731",
     "status": "completed"
    },
    "tags": []
   },
   "source": [
    "### Implementing KNearest neighbour"
   ]
  },
  {
   "cell_type": "code",
   "execution_count": 32,
   "id": "cfa8f355",
   "metadata": {
    "execution": {
     "iopub.execute_input": "2023-08-25T17:08:50.893520Z",
     "iopub.status.busy": "2023-08-25T17:08:50.892660Z",
     "iopub.status.idle": "2023-08-25T17:08:51.567249Z",
     "shell.execute_reply": "2023-08-25T17:08:51.567861Z",
     "shell.execute_reply.started": "2023-08-25T16:53:07.602703Z"
    },
    "papermill": {
     "duration": 0.781953,
     "end_time": "2023-08-25T17:08:51.568055",
     "exception": false,
     "start_time": "2023-08-25T17:08:50.786102",
     "status": "completed"
    },
    "tags": []
   },
   "outputs": [
    {
     "name": "stdout",
     "output_type": "stream",
     "text": [
      " Best accuracy of 0.955  was with k =  7\n"
     ]
    }
   ],
   "source": [
    "# Selecting best K-value(number of neighbours) based upon the accuracy-score\n",
    "ks = 10\n",
    "mean_acc = np.zeros((ks-1))\n",
    "std_acc = np.zeros((ks-1))\n",
    "for n in range (1,ks):\n",
    "    neg = KNeighborsClassifier(n_neighbors=n).fit(x_train, y_train)\n",
    "    ypred_knn = neg.predict(x_test)\n",
    "    mean_acc[n-1]= metrics.accuracy_score(y_test, ypred_knn)\n",
    "    std_acc[n-1]= np.std(ypred_knn==y_test)/np.sqrt(ypred_knn.shape[0])\n",
    "print(' Best accuracy of %.3f '%mean_acc.max(), 'was with k = ', mean_acc.argmax())"
   ]
  },
  {
   "cell_type": "code",
   "execution_count": 33,
   "id": "6f3e3198",
   "metadata": {
    "execution": {
     "iopub.execute_input": "2023-08-25T17:08:51.784014Z",
     "iopub.status.busy": "2023-08-25T17:08:51.782957Z",
     "iopub.status.idle": "2023-08-25T17:08:52.205207Z",
     "shell.execute_reply": "2023-08-25T17:08:52.205793Z",
     "shell.execute_reply.started": "2023-08-25T16:53:08.306935Z"
    },
    "papermill": {
     "duration": 0.5333,
     "end_time": "2023-08-25T17:08:52.205998",
     "exception": false,
     "start_time": "2023-08-25T17:08:51.672698",
     "status": "completed"
    },
    "tags": []
   },
   "outputs": [
    {
     "data": {
      "image/png": "[encoded data removed]",
      "text/plain": [
       "<Figure size 720x360 with 1 Axes>"
      ]
     },
     "metadata": {},
     "output_type": "display_data"
    }
   ],
   "source": [
    "plt.figure(figsize=(10,5))\n",
    "plt.plot(range(1,ks),mean_acc,'g')\n",
    "plt.fill_between(range(1,ks),mean_acc - 1 * std_acc,mean_acc + 1 * std_acc, alpha=0.10)\n",
    "plt.fill_between(range(1,ks),mean_acc - 3 * std_acc,mean_acc + 3 * std_acc, alpha=0.10,color=\"green\")\n",
    "plt.legend(('Accuracy ', '+/- 1xstd','+/- 3xstd'))\n",
    "plt.ylabel('Accuracy ')\n",
    "plt.xlabel('Number of Neighbors (K)')\n",
    "plt.tight_layout()\n",
    "plt.show()"
   ]
  },
  {
   "cell_type": "markdown",
   "id": "a291f4c2",
   "metadata": {
    "papermill": {
     "duration": 0.107207,
     "end_time": "2023-08-25T17:08:52.418964",
     "exception": false,
     "start_time": "2023-08-25T17:08:52.311757",
     "status": "completed"
    },
    "tags": []
   },
   "source": [
    "**The plot above depicts the changing values of accuracy with K-values.**"
   ]
  },
  {
   "cell_type": "code",
   "execution_count": 34,
   "id": "88fcb314",
   "metadata": {
    "execution": {
     "iopub.execute_input": "2023-08-25T17:08:52.636909Z",
     "iopub.status.busy": "2023-08-25T17:08:52.636121Z",
     "iopub.status.idle": "2023-08-25T17:08:52.925298Z",
     "shell.execute_reply": "2023-08-25T17:08:52.924607Z",
     "shell.execute_reply.started": "2023-08-25T16:53:08.687440Z"
    },
    "papermill": {
     "duration": 0.399255,
     "end_time": "2023-08-25T17:08:52.925481",
     "exception": false,
     "start_time": "2023-08-25T17:08:52.526226",
     "status": "completed"
    },
    "tags": []
   },
   "outputs": [
    {
     "name": "stdout",
     "output_type": "stream",
     "text": [
      " Train-set accuracy with k=7 is: 0.950\n",
      " Test-set accuracy with k=7 is: 0.951\n"
     ]
    }
   ],
   "source": [
    "#Finding Training and testing set accuracy for best k\n",
    "knn = KNeighborsClassifier(n_neighbors=7).fit(x_train, y_train)\n",
    "\n",
    "train_scores= metrics.accuracy_score(y_train, knn.predict(x_train))\n",
    "test_scores= metrics.accuracy_score(y_test, knn.predict(x_test))\n",
    "print(' Train-set accuracy with k=7 is: %.3f'%train_scores)\n",
    "print(' Test-set accuracy with k=7 is: %.3f'%test_scores)\n",
    "k_acc = metrics.accuracy_score(y_test, ypred_knn)\n",
    "acc_val.append(k_acc)\n",
    "#print(' Accuracy-score : %.3f'%k_acc)"
   ]
  },
  {
   "cell_type": "markdown",
   "id": "9555c13e",
   "metadata": {
    "papermill": {
     "duration": 0.108562,
     "end_time": "2023-08-25T17:08:53.145161",
     "exception": false,
     "start_time": "2023-08-25T17:08:53.036599",
     "status": "completed"
    },
    "tags": []
   },
   "source": [
    "### Implementing Decision tree"
   ]
  },
  {
   "cell_type": "code",
   "execution_count": 35,
   "id": "48592f62",
   "metadata": {
    "execution": {
     "iopub.execute_input": "2023-08-25T17:08:53.361759Z",
     "iopub.status.busy": "2023-08-25T17:08:53.360705Z",
     "iopub.status.idle": "2023-08-25T17:08:53.373242Z",
     "shell.execute_reply": "2023-08-25T17:08:53.372452Z",
     "shell.execute_reply.started": "2023-08-25T16:53:08.984849Z"
    },
    "papermill": {
     "duration": 0.122083,
     "end_time": "2023-08-25T17:08:53.373405",
     "exception": false,
     "start_time": "2023-08-25T17:08:53.251322",
     "status": "completed"
    },
    "tags": []
   },
   "outputs": [],
   "source": [
    "d_tree = DecisionTreeClassifier(criterion='entropy')\n",
    "d_tree.fit(x_train, y_train)\n",
    "ypred_tree = d_tree.predict(x_test)\n",
    "#Evaluating the model\n",
    "d_acc =  metrics.accuracy_score(y_test, ypred_tree)\n",
    "acc_val.append(d_acc)"
   ]
  },
  {
   "cell_type": "markdown",
   "id": "49a9b28a",
   "metadata": {
    "papermill": {
     "duration": 0.1058,
     "end_time": "2023-08-25T17:08:53.586257",
     "exception": false,
     "start_time": "2023-08-25T17:08:53.480457",
     "status": "completed"
    },
    "tags": []
   },
   "source": [
    "### Implementing Support Vector Machine"
   ]
  },
  {
   "cell_type": "markdown",
   "id": "7927e262",
   "metadata": {
    "papermill": {
     "duration": 0.106214,
     "end_time": "2023-08-25T17:08:53.798999",
     "exception": false,
     "start_time": "2023-08-25T17:08:53.692785",
     "status": "completed"
    },
    "tags": []
   },
   "source": [
    "**SVM algorithms use a set of mathematical functions that are defined as the kernel. The function of kernel is to take data as input and transform it into the required form. Different SVM algorithms use different types of kernel functions. These functions can be different types. For example linear, nonlinear, polynomial, radial basis function (RBF), and sigmoid.**\n",
    "**The most used type of kernel function is RBF. Because it has localized and finite response along the entire x-axis.**"
   ]
  },
  {
   "cell_type": "code",
   "execution_count": 36,
   "id": "5da7dd2a",
   "metadata": {
    "execution": {
     "iopub.execute_input": "2023-08-25T17:08:54.050629Z",
     "iopub.status.busy": "2023-08-25T17:08:54.049778Z",
     "iopub.status.idle": "2023-08-25T17:08:54.135816Z",
     "shell.execute_reply": "2023-08-25T17:08:54.135173Z",
     "shell.execute_reply.started": "2023-08-25T16:53:08.998321Z"
    },
    "papermill": {
     "duration": 0.225559,
     "end_time": "2023-08-25T17:08:54.136010",
     "exception": false,
     "start_time": "2023-08-25T17:08:53.910451",
     "status": "completed"
    },
    "tags": []
   },
   "outputs": [],
   "source": [
    "clf = svm.SVC(kernel='rbf')\n",
    "sv = clf.fit(x_train, y_train)\n",
    "ypred_svm = clf.predict(x_test)\n",
    "s_acc = accuracy_score(y_test, ypred_svm)\n",
    "acc_val.append(s_acc)"
   ]
  },
  {
   "cell_type": "markdown",
   "id": "09468b31",
   "metadata": {
    "papermill": {
     "duration": 0.107955,
     "end_time": "2023-08-25T17:08:54.352107",
     "exception": false,
     "start_time": "2023-08-25T17:08:54.244152",
     "status": "completed"
    },
    "tags": []
   },
   "source": [
    "## **Evaluating the model**\n",
    "\n",
    "### Accuracy-score\n",
    "**Let us compare the accuracy of the three algorithms for given dataset**"
   ]
  },
  {
   "cell_type": "code",
   "execution_count": 37,
   "id": "d43bda82",
   "metadata": {
    "execution": {
     "iopub.execute_input": "2023-08-25T17:08:54.573169Z",
     "iopub.status.busy": "2023-08-25T17:08:54.572395Z",
     "iopub.status.idle": "2023-08-25T17:08:54.576423Z",
     "shell.execute_reply": "2023-08-25T17:08:54.576968Z",
     "shell.execute_reply.started": "2023-08-25T16:53:09.092767Z"
    },
    "papermill": {
     "duration": 0.117029,
     "end_time": "2023-08-25T17:08:54.577173",
     "exception": false,
     "start_time": "2023-08-25T17:08:54.460144",
     "status": "completed"
    },
    "tags": []
   },
   "outputs": [
    {
     "name": "stdout",
     "output_type": "stream",
     "text": [
      "KNN model accuracy : 0.953\n",
      "Decision tree model accuracy : 0.954\n",
      "SVM model accuracy : 0.955\n"
     ]
    }
   ],
   "source": [
    "print('KNN model accuracy : %.3f' %k_acc)\n",
    "print('Decision tree model accuracy : %.3f'%d_acc)\n",
    "print('SVM model accuracy : %.3f' %s_acc)"
   ]
  },
  {
   "cell_type": "markdown",
   "id": "ace3fa6f",
   "metadata": {
    "papermill": {
     "duration": 0.106537,
     "end_time": "2023-08-25T17:08:54.790790",
     "exception": false,
     "start_time": "2023-08-25T17:08:54.684253",
     "status": "completed"
    },
    "tags": []
   },
   "source": [
    "**So accuracy scores for all of te chosen models are equal.**"
   ]
  },
  {
   "cell_type": "markdown",
   "id": "8219d28e",
   "metadata": {
    "papermill": {
     "duration": 0.110894,
     "end_time": "2023-08-25T17:08:55.009565",
     "exception": false,
     "start_time": "2023-08-25T17:08:54.898671",
     "status": "completed"
    },
    "tags": []
   },
   "source": [
    "### Computing the Confusion Matrix"
   ]
  },
  {
   "cell_type": "code",
   "execution_count": 38,
   "id": "0ac0c73f",
   "metadata": {
    "execution": {
     "iopub.execute_input": "2023-08-25T17:08:55.242390Z",
     "iopub.status.busy": "2023-08-25T17:08:55.241546Z",
     "iopub.status.idle": "2023-08-25T17:08:56.237395Z",
     "shell.execute_reply": "2023-08-25T17:08:56.236648Z",
     "shell.execute_reply.started": "2023-08-25T16:53:09.100899Z"
    },
    "papermill": {
     "duration": 1.116193,
     "end_time": "2023-08-25T17:08:56.237569",
     "exception": false,
     "start_time": "2023-08-25T17:08:55.121376",
     "status": "completed"
    },
    "tags": []
   },
   "outputs": [
    {
     "data": {
      "image/png": "[encoded data removed]",
      "text/plain": [
       "<Figure size 720x1080 with 6 Axes>"
      ]
     },
     "metadata": {},
     "output_type": "display_data"
    }
   ],
   "source": [
    "fig, axs = plt.subplots(nrows=3, figsize=(10,15), constrained_layout = True)\n",
    "plt.rcParams['font.size'] = '16'\n",
    "plot_confusion_matrix(d_tree, x_test, y_test,ax=axs[0],cmap='YlGn')\n",
    "axs[0].set_title('Cofusion matrix for Decision tree model')\n",
    "\n",
    "plot_confusion_matrix(sv, x_test, y_test,ax = axs[1],cmap='YlGn')\n",
    "axs[1].set_title('Cofusion matrix for SVM model')\n",
    "\n",
    "plot_confusion_matrix(knn, x_test, y_test, ax = axs[2],cmap='YlGn')\n",
    "axs[2].set_title('Cofusion matrix for KNN model')\n",
    "plt.show()  "
   ]
  },
  {
   "cell_type": "markdown",
   "id": "4e09700c",
   "metadata": {
    "papermill": {
     "duration": 0.108639,
     "end_time": "2023-08-25T17:08:56.457625",
     "exception": false,
     "start_time": "2023-08-25T17:08:56.348986",
     "status": "completed"
    },
    "tags": []
   },
   "source": [
    "#### As seen from confusion matrices, \n",
    "**1. The True-Negatives for support vector machine model highest in numbers.**\n",
    "\n",
    "**2. The decision tree model gives highest True-Positives followed by KNN model while SVM model fails to give any True-Positives.**\n",
    "\n",
    "Here we are trying to build a model to predict of a person has stroke or not, so we want to capture the disease i.e as many positives as possible. Decision tree classifiers performs best among the three models in capture highest number of True-Positives (as desirable)"
   ]
  },
  {
   "cell_type": "markdown",
   "id": "af1adf78",
   "metadata": {
    "papermill": {
     "duration": 0.108611,
     "end_time": "2023-08-25T17:08:56.675968",
     "exception": false,
     "start_time": "2023-08-25T17:08:56.567357",
     "status": "completed"
    },
    "tags": []
   },
   "source": [
    "### Classification Report"
   ]
  },
  {
   "cell_type": "code",
   "execution_count": 39,
   "id": "c47282fb",
   "metadata": {
    "execution": {
     "iopub.execute_input": "2023-08-25T17:08:56.897483Z",
     "iopub.status.busy": "2023-08-25T17:08:56.896702Z",
     "iopub.status.idle": "2023-08-25T17:08:56.924192Z",
     "shell.execute_reply": "2023-08-25T17:08:56.923402Z",
     "shell.execute_reply.started": "2023-08-25T16:53:10.072581Z"
    },
    "papermill": {
     "duration": 0.139341,
     "end_time": "2023-08-25T17:08:56.924384",
     "exception": false,
     "start_time": "2023-08-25T17:08:56.785043",
     "status": "completed"
    },
    "tags": []
   },
   "outputs": [
    {
     "name": "stdout",
     "output_type": "stream",
     "text": [
      "\n",
      " Classification report for KNN classifier\n",
      "              precision    recall  f1-score   support\n",
      "\n",
      "  Stroke = 0       0.96      1.00      0.98      1221\n",
      "  Stroke = 1       0.00      0.00      0.00        57\n",
      "\n",
      "    accuracy                           0.95      1278\n",
      "   macro avg       0.48      0.50      0.49      1278\n",
      "weighted avg       0.91      0.95      0.93      1278\n",
      "\n",
      "\n",
      " Classification report for Decision tree classifier\n",
      "              precision    recall  f1-score   support\n",
      "\n",
      "  Stroke = 0       0.96      1.00      0.98      1221\n",
      "  Stroke = 1       0.38      0.05      0.09        57\n",
      "\n",
      "    accuracy                           0.95      1278\n",
      "   macro avg       0.67      0.52      0.53      1278\n",
      "weighted avg       0.93      0.95      0.94      1278\n",
      "\n",
      "\n",
      " Classification report for SVM classifier\n",
      "              precision    recall  f1-score   support\n",
      "\n",
      "  Stroke = 0       0.96      1.00      0.98      1221\n",
      "  Stroke = 1       0.00      0.00      0.00        57\n",
      "\n",
      "    accuracy                           0.95      1278\n",
      "   macro avg       0.48      0.50      0.49      1278\n",
      "weighted avg       0.91      0.95      0.93      1278\n",
      "\n"
     ]
    }
   ],
   "source": [
    "np.set_printoptions(precision=2)\n",
    "t_n = ['Stroke = 0', 'Stroke = 1']\n",
    "print('\\n',\"Classification report for KNN classifier\")\n",
    "print(classification_report(y_test, ypred_knn, labels=[0,1], target_names=t_n))\n",
    "print('\\n',\"Classification report for Decision tree classifier\")\n",
    "print(classification_report(y_test, ypred_tree, labels=[0,1], target_names=t_n))\n",
    "print('\\n',\"Classification report for SVM classifier\")\n",
    "print(classification_report(y_test, ypred_svm, labels=[0,1],target_names=t_n))"
   ]
  },
  {
   "cell_type": "markdown",
   "id": "24ff0a06",
   "metadata": {
    "papermill": {
     "duration": 0.115489,
     "end_time": "2023-08-25T17:08:57.154775",
     "exception": false,
     "start_time": "2023-08-25T17:08:57.039286",
     "status": "completed"
    },
    "tags": []
   },
   "source": [
    "**The average Precision and Recall are highest for Decision tree**"
   ]
  },
  {
   "cell_type": "markdown",
   "id": "9d94e756",
   "metadata": {
    "papermill": {
     "duration": 0.111696,
     "end_time": "2023-08-25T17:08:57.377871",
     "exception": false,
     "start_time": "2023-08-25T17:08:57.266175",
     "status": "completed"
    },
    "tags": []
   },
   "source": [
    "**The F1 score**"
   ]
  },
  {
   "cell_type": "code",
   "execution_count": 40,
   "id": "5a892a6a",
   "metadata": {
    "execution": {
     "iopub.execute_input": "2023-08-25T17:08:57.607797Z",
     "iopub.status.busy": "2023-08-25T17:08:57.606865Z",
     "iopub.status.idle": "2023-08-25T17:08:57.763478Z",
     "shell.execute_reply": "2023-08-25T17:08:57.762838Z",
     "shell.execute_reply.started": "2023-08-25T16:53:10.109518Z"
    },
    "papermill": {
     "duration": 0.273699,
     "end_time": "2023-08-25T17:08:57.763659",
     "exception": false,
     "start_time": "2023-08-25T17:08:57.489960",
     "status": "completed"
    },
    "tags": []
   },
   "outputs": [
    {
     "name": "stdout",
     "output_type": "stream",
     "text": [
      "F1-score for the KNN model is : 0.031 \n",
      "F1-score for the decision tree model is : 0.092\n",
      "F1-score for the support vector machine model : 0.000\n"
     ]
    }
   ],
   "source": [
    "print('F1-score for the KNN model is : %.3f '  %f1_score(y_test, knn.predict(x_test)))\n",
    "print('F1-score for the decision tree model is : %.3f'%f1_score(y_test, ypred_tree))\n",
    "print('F1-score for the support vector machine model : %.3f' %f1_score(y_test,ypred_svm))\n",
    "f1_val.append(f1_score(y_test, knn.predict(x_test)))\n",
    "f1_val.append(f1_score(y_test, ypred_tree))\n",
    "f1_val.append(f1_score(y_test,ypred_svm))"
   ]
  },
  {
   "cell_type": "markdown",
   "id": "55f6eb23",
   "metadata": {
    "papermill": {
     "duration": 0.11749,
     "end_time": "2023-08-25T17:08:58.051792",
     "exception": false,
     "start_time": "2023-08-25T17:08:57.934302",
     "status": "completed"
    },
    "tags": []
   },
   "source": [
    "**The F1-score for decision tree classifier is higher than the other two classifiers.**"
   ]
  },
  {
   "cell_type": "markdown",
   "id": "847de5f7",
   "metadata": {
    "papermill": {
     "duration": 0.110993,
     "end_time": "2023-08-25T17:08:58.276458",
     "exception": false,
     "start_time": "2023-08-25T17:08:58.165465",
     "status": "completed"
    },
    "tags": []
   },
   "source": [
    "### Matthews correlation coefficient\n",
    "#### The Matthews correlation coefficient is used in machine learning as a measure of the quality of binary (two-class) classifications. The MCC is in essence a correlation coefficient value between -1 and +1. A coefficient of +1 represents a perfect prediction, 0 an average random prediction and -1 an inverse prediction. The statistic is also known as the phi coefficient.”\n",
    "#### The Matthews correlation coefficient (MCC), is a more reliable statistical rate which produces a high score only if the prediction obtained good results in all of the four confusion matrix categories (true positives, false negatives, true negatives, and false positives), proportionally both to the size of positive elements and the size of negative elements in the dataset."
   ]
  },
  {
   "cell_type": "code",
   "execution_count": 41,
   "id": "707148b0",
   "metadata": {
    "execution": {
     "iopub.execute_input": "2023-08-25T17:08:58.501788Z",
     "iopub.status.busy": "2023-08-25T17:08:58.500989Z",
     "iopub.status.idle": "2023-08-25T17:08:58.661175Z",
     "shell.execute_reply": "2023-08-25T17:08:58.661864Z",
     "shell.execute_reply.started": "2023-08-25T16:53:10.268358Z"
    },
    "papermill": {
     "duration": 0.274359,
     "end_time": "2023-08-25T17:08:58.662093",
     "exception": false,
     "start_time": "2023-08-25T17:08:58.387734",
     "status": "completed"
    },
    "tags": []
   },
   "outputs": [
    {
     "name": "stdout",
     "output_type": "stream",
     "text": [
      "The Matthews correlation coefficient for Decision tree model : 0.127\n",
      "The Matthews correlation coefficient for K nearest neighbour model : 0.031\n",
      "The Matthews correlation coefficient for SVM model : -0.006\n"
     ]
    }
   ],
   "source": [
    "print(\"The Matthews correlation coefficient for Decision tree model : %.3f\" %matthews_corrcoef(y_test, ypred_tree))\n",
    "print(\"The Matthews correlation coefficient for K nearest neighbour model : %.3f\" %matthews_corrcoef(y_test, knn.predict(x_test)))\n",
    "print(\"The Matthews correlation coefficient for SVM model : %.3f\" %matthews_corrcoef(y_test, ypred_svm))\n",
    "macc_val.append(matthews_corrcoef(y_test, knn.predict(x_test)))\n",
    "macc_val.append(matthews_corrcoef(y_test, ypred_tree))\n",
    "macc_val.append(matthews_corrcoef(y_test, ypred_svm))"
   ]
  },
  {
   "cell_type": "markdown",
   "id": "efc29bd9",
   "metadata": {
    "papermill": {
     "duration": 0.11126,
     "end_time": "2023-08-25T17:08:58.883879",
     "exception": false,
     "start_time": "2023-08-25T17:08:58.772619",
     "status": "completed"
    },
    "tags": []
   },
   "source": [
    "#### Decision Tree model has highest matthews correlation coefficient among the chosen models."
   ]
  },
  {
   "cell_type": "code",
   "execution_count": 42,
   "id": "d069b14d",
   "metadata": {
    "execution": {
     "iopub.execute_input": "2023-08-25T17:08:59.124315Z",
     "iopub.status.busy": "2023-08-25T17:08:59.113218Z",
     "iopub.status.idle": "2023-08-25T17:08:59.128762Z",
     "shell.execute_reply": "2023-08-25T17:08:59.129342Z",
     "shell.execute_reply.started": "2023-08-25T16:53:10.436496Z"
    },
    "papermill": {
     "duration": 0.134955,
     "end_time": "2023-08-25T17:08:59.129551",
     "exception": false,
     "start_time": "2023-08-25T17:08:58.994596",
     "status": "completed"
    },
    "tags": []
   },
   "outputs": [
    {
     "data": {
      "text/html": [
       "<div>\n",
       "<style scoped>\n",
       "    .dataframe tbody tr th:only-of-type {\n",
       "        vertical-align: middle;\n",
       "    }\n",
       "\n",
       "    .dataframe tbody tr th {\n",
       "        vertical-align: top;\n",
       "    }\n",
       "\n",
       "    .dataframe thead th {\n",
       "        text-align: right;\n",
       "    }\n",
       "</style>\n",
       "<table border=\"1\" class=\"dataframe\">\n",
       "  <thead>\n",
       "    <tr style=\"text-align: right;\">\n",
       "      <th></th>\n",
       "      <th>Accuracy</th>\n",
       "      <th>F1_score</th>\n",
       "      <th>Matthews_cor_coef</th>\n",
       "    </tr>\n",
       "  </thead>\n",
       "  <tbody>\n",
       "    <tr>\n",
       "      <th>KNN</th>\n",
       "      <td>0.953052</td>\n",
       "      <td>0.030769</td>\n",
       "      <td>0.030912</td>\n",
       "    </tr>\n",
       "    <tr>\n",
       "      <th>Decision_tree</th>\n",
       "      <td>0.953834</td>\n",
       "      <td>0.092308</td>\n",
       "      <td>0.127033</td>\n",
       "    </tr>\n",
       "    <tr>\n",
       "      <th>SVM</th>\n",
       "      <td>0.954617</td>\n",
       "      <td>0.000000</td>\n",
       "      <td>-0.006046</td>\n",
       "    </tr>\n",
       "  </tbody>\n",
       "</table>\n",
       "</div>"
      ],
      "text/plain": [
       "               Accuracy  F1_score  Matthews_cor_coef\n",
       "KNN            0.953052  0.030769           0.030912\n",
       "Decision_tree  0.953834  0.092308           0.127033\n",
       "SVM            0.954617  0.000000          -0.006046"
      ]
     },
     "execution_count": 42,
     "metadata": {},
     "output_type": "execute_result"
    }
   ],
   "source": [
    "eval_mat = pd.DataFrame(list(zip(acc_val, f1_val, macc_val)), \n",
    "                        columns=['Accuracy','F1_score','Matthews_cor_coef'],\n",
    "                       index = ['KNN', 'Decision_tree', 'SVM'])\n",
    "eval_mat"
   ]
  },
  {
   "cell_type": "markdown",
   "id": "1fba97db",
   "metadata": {
    "papermill": {
     "duration": 0.111263,
     "end_time": "2023-08-25T17:08:59.352281",
     "exception": false,
     "start_time": "2023-08-25T17:08:59.241018",
     "status": "completed"
    },
    "tags": []
   },
   "source": [
    "Analyzing the various evaluation matrices for our models we clearly see that the Decision tree classifier performs best among the three classifiers."
   ]
  },
  {
   "cell_type": "markdown",
   "id": "3642c1bd",
   "metadata": {
    "papermill": {
     "duration": 0.110193,
     "end_time": "2023-08-25T17:08:59.575326",
     "exception": false,
     "start_time": "2023-08-25T17:08:59.465133",
     "status": "completed"
    },
    "tags": []
   },
   "source": [
    "### Precision-Recall curves for the three classifiers"
   ]
  },
  {
   "cell_type": "code",
   "execution_count": 43,
   "id": "10f0363c",
   "metadata": {
    "execution": {
     "iopub.execute_input": "2023-08-25T17:08:59.800291Z",
     "iopub.status.busy": "2023-08-25T17:08:59.799475Z",
     "iopub.status.idle": "2023-08-25T17:09:00.190610Z",
     "shell.execute_reply": "2023-08-25T17:09:00.189944Z",
     "shell.execute_reply.started": "2023-08-25T16:53:10.454786Z"
    },
    "papermill": {
     "duration": 0.505031,
     "end_time": "2023-08-25T17:09:00.190779",
     "exception": false,
     "start_time": "2023-08-25T17:08:59.685748",
     "status": "completed"
    },
    "tags": []
   },
   "outputs": [
    {
     "data": {
      "text/plain": [
       "Text(0.5, 1.0, 'Precision-Recall curve for different models')"
      ]
     },
     "execution_count": 43,
     "metadata": {},
     "output_type": "execute_result"
    },
    {
     "data": {
      "image/png": "[encoded data removed]",
      "text/plain": [
       "<Figure size 576x576 with 1 Axes>"
      ]
     },
     "metadata": {},
     "output_type": "display_data"
    }
   ],
   "source": [
    "fig, axs = plt.subplots(figsize=(8,8))\n",
    "plot_precision_recall_curve(knn, x_test, y_test, name = 'K-Nearest Neighbour',ax=axs)\n",
    "plot_precision_recall_curve(d_tree, x_test, y_test, name = 'Decision tree',ax=axs)\n",
    "plot_precision_recall_curve(clf, x_test, y_test, name = 'Support Vector Machine', ax=axs)\n",
    "plt.legend(loc=(0, -.30), prop=dict(size=14))\n",
    "plt.title('Precision-Recall curve for different models')"
   ]
  },
  {
   "cell_type": "markdown",
   "id": "26eee888",
   "metadata": {
    "papermill": {
     "duration": 0.151211,
     "end_time": "2023-08-25T17:09:00.459765",
     "exception": false,
     "start_time": "2023-08-25T17:09:00.308554",
     "status": "completed"
    },
    "tags": []
   },
   "source": [
    "### Conclusion\n",
    "The precision-recall curve for decision matrix has higher area under the curve, thus confirming that it is better than the other two models, This is in agreement with our conclusion that decision tree classifier is best when compared to K-nearest neighbour and Support Vector Machine.\n"
   ]
  }
 ],
 "metadata": {
  "kernelspec": {
   "display_name": "Python 3",
   "language": "python",
   "name": "python3"
  },
  "language_info": {
   "codemirror_mode": {
    "name": "ipython",
    "version": 3
   },
   "file_extension": ".py",
   "mimetype": "text/x-python",
   "name": "python",
   "nbconvert_exporter": "python",
   "pygments_lexer": "ipython3",
   "version": "3.7.10"
  },
  "papermill": {
   "default_parameters": {},
   "duration": 45.131988,
   "end_time": "2023-08-25T17:09:02.099167",
   "environment_variables": {},
   "exception": null,
   "input_path": "__notebook__.ipynb",
   "output_path": "__notebook__.ipynb",
   "parameters": {},
   "start_time": "2023-08-25T17:08:16.967179",
   "version": "2.3.3"
  }
 },
 "nbformat": 4,
 "nbformat_minor": 5
}
